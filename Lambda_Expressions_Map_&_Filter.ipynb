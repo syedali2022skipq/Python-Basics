{
  "nbformat": 4,
  "nbformat_minor": 0,
  "metadata": {
    "colab": {
      "provenance": [],
      "authorship_tag": "ABX9TyPK66Sx3yuhukf0HmRKQ2WD"
    },
    "kernelspec": {
      "name": "python3",
      "display_name": "Python 3"
    },
    "language_info": {
      "name": "python"
    }
  },
  "cells": [
    {
      "cell_type": "markdown",
      "source": [
        "**Lambda Expressions Map & Filter**"
      ],
      "metadata": {
        "id": "cXcAi2FhLRVn"
      }
    },
    {
      "cell_type": "markdown",
      "source": [
        "**Map**"
      ],
      "metadata": {
        "id": "mK_EK38iLmQD"
      }
    },
    {
      "cell_type": "code",
      "execution_count": 1,
      "metadata": {
        "id": "MiU_lsgTLNuj"
      },
      "outputs": [],
      "source": [
        "# lmabda functions are anonymous functions that you use once and never reference them again\n",
        "\n",
        "def square(num):\n",
        "  return num**2"
      ]
    },
    {
      "cell_type": "code",
      "source": [
        "my_nums = [1,2,3,4,5]\n",
        "\n",
        "# one way to find the square of every item inside list is to apply a for loop\n",
        "# instead we can use map to do that\n",
        "# it will map thru every item in the list\n",
        "\n",
        "# map requires a function and *iterables\n",
        "\n",
        "map(square,[2,3,4])"
      ],
      "metadata": {
        "colab": {
          "base_uri": "https://localhost:8080/"
        },
        "id": "l1vRMCVLLw1o",
        "outputId": "55d1571c-64e6-48a3-e4d3-b72b60d7d56d"
      },
      "execution_count": 3,
      "outputs": [
        {
          "output_type": "execute_result",
          "data": {
            "text/plain": [
              "<map at 0x7faa9a3c3410>"
            ]
          },
          "metadata": {},
          "execution_count": 3
        }
      ]
    },
    {
      "cell_type": "code",
      "source": [
        "for item in map(square,[2,3,4,5]): # it will iterate thru the list and apply the function\n",
        "  print(item)"
      ],
      "metadata": {
        "colab": {
          "base_uri": "https://localhost:8080/"
        },
        "id": "VOJqTGVJM4ZH",
        "outputId": "7f13caa0-9055-4004-a5e1-c2d69b087d96"
      },
      "execution_count": 4,
      "outputs": [
        {
          "output_type": "stream",
          "name": "stdout",
          "text": [
            "4\n",
            "9\n",
            "16\n",
            "25\n"
          ]
        }
      ]
    },
    {
      "cell_type": "code",
      "source": [
        "# if we want to get back the list of squared nums\n",
        "list(map(square,my_nums))"
      ],
      "metadata": {
        "colab": {
          "base_uri": "https://localhost:8080/"
        },
        "id": "-DiInqH1NFXi",
        "outputId": "4c4251e8-2762-4238-9ea4-7a449e2bc09e"
      },
      "execution_count": 5,
      "outputs": [
        {
          "output_type": "execute_result",
          "data": {
            "text/plain": [
              "[1, 4, 9, 16, 25]"
            ]
          },
          "metadata": {},
          "execution_count": 5
        }
      ]
    },
    {
      "cell_type": "code",
      "source": [
        "# lets take another exp\n",
        "\n",
        "def splicer(mystr):\n",
        "  if len(mystr)%2 == 0:\n",
        "    return \"EVEN\"\n",
        "  else:\n",
        "    return mystr[0] \n",
        "\n",
        "names = [\"irtaza\",\"murtaza\",\"ali\"]\n",
        "list(map(splicer,names))     # returns even for even number of letter and single letter for odd num of letters"
      ],
      "metadata": {
        "colab": {
          "base_uri": "https://localhost:8080/"
        },
        "id": "rgLA5JyvNfM5",
        "outputId": "b57a71e5-aac2-4f0d-a683-7b7b73a0c823"
      },
      "execution_count": 7,
      "outputs": [
        {
          "output_type": "execute_result",
          "data": {
            "text/plain": [
              "['EVEN', 'm', 'a']"
            ]
          },
          "metadata": {},
          "execution_count": 7
        }
      ]
    },
    {
      "cell_type": "markdown",
      "source": [
        "**Filter**"
      ],
      "metadata": {
        "id": "mw2FUDlOOE_O"
      }
    },
    {
      "cell_type": "markdown",
      "source": [
        "filter by function that returns either true or false"
      ],
      "metadata": {
        "id": "NvRwtw_4OZha"
      }
    },
    {
      "cell_type": "code",
      "source": [
        "def check_even(num):\n",
        "  return num%2==0\n",
        "\n",
        "mynums = [1,2,3,4,5,6]\n",
        "\n",
        "list(filter(check_even,mynums))"
      ],
      "metadata": {
        "colab": {
          "base_uri": "https://localhost:8080/"
        },
        "id": "P58AXVZhOFWw",
        "outputId": "be76848b-bf69-4f65-b3ec-9d47b41babd5"
      },
      "execution_count": 10,
      "outputs": [
        {
          "output_type": "execute_result",
          "data": {
            "text/plain": [
              "[2, 4, 6]"
            ]
          },
          "metadata": {},
          "execution_count": 10
        }
      ]
    },
    {
      "cell_type": "code",
      "source": [
        "for n in filter(check_even,mynums):\n",
        "  print(n)"
      ],
      "metadata": {
        "colab": {
          "base_uri": "https://localhost:8080/"
        },
        "id": "MdWzhfUxPDWl",
        "outputId": "41de8a7a-3fcb-4357-ec66-cbcf4467077c"
      },
      "execution_count": 13,
      "outputs": [
        {
          "output_type": "stream",
          "name": "stdout",
          "text": [
            "2\n",
            "4\n",
            "6\n"
          ]
        }
      ]
    },
    {
      "cell_type": "markdown",
      "source": [
        "**Lambda Expressions**"
      ],
      "metadata": {
        "id": "fSp13EHePTav"
      }
    },
    {
      "cell_type": "code",
      "source": [
        "def square(num): # we define a function as usual\n",
        "  result = num ** 2\n",
        "  return result"
      ],
      "metadata": {
        "id": "EthwzGQ9PWPc"
      },
      "execution_count": 14,
      "outputs": []
    },
    {
      "cell_type": "code",
      "source": [
        "square(2)"
      ],
      "metadata": {
        "colab": {
          "base_uri": "https://localhost:8080/"
        },
        "id": "ofH17jQwPWTr",
        "outputId": "67a6d2f4-6de2-4c64-a380-6d79110872ab"
      },
      "execution_count": 15,
      "outputs": [
        {
          "output_type": "execute_result",
          "data": {
            "text/plain": [
              "4"
            ]
          },
          "metadata": {},
          "execution_count": 15
        }
      ]
    },
    {
      "cell_type": "code",
      "source": [
        "# turn this function into lambda expression\n",
        "\n",
        "def square(num):\n",
        "  return num ** 2\n",
        "\n",
        "# or we can do this as\n",
        "\n",
        "def square(num): return num ** 2  # it not like this by convention but python lets us do this as well"
      ],
      "metadata": {
        "id": "VCFEsh1NQXbD"
      },
      "execution_count": null,
      "outputs": []
    },
    {
      "cell_type": "code",
      "source": [
        "# we're almost in the form of lambda expxression\n",
        "# lambda expression is also known as the anonymous function \n",
        "# the reason for that is because its some functionality that you only intend to use one time\n",
        "# because of that we don't actually have to use a name or the def keyword\n",
        "# so replace by keyword lambda\n",
        "\n",
        "lambda num: num ** 2 # we also remove the return keyword because it assume that it need to return what is other side of the colon\n",
        "\n",
        "# this is now a lambda expression"
      ],
      "metadata": {
        "id": "xzgOeDxeQ6SK"
      },
      "execution_count": null,
      "outputs": []
    },
    {
      "cell_type": "code",
      "source": [
        "mysquare = lambda num: num ** 2\n",
        "mysquare(2)"
      ],
      "metadata": {
        "colab": {
          "base_uri": "https://localhost:8080/"
        },
        "id": "F3gR-7ArR4Q8",
        "outputId": "2bf8b838-228c-4003-a014-1774a3707127"
      },
      "execution_count": 17,
      "outputs": [
        {
          "output_type": "execute_result",
          "data": {
            "text/plain": [
              "4"
            ]
          },
          "metadata": {},
          "execution_count": 17
        }
      ]
    },
    {
      "cell_type": "code",
      "source": [
        "# alot of the time you're going to be using it with conjuction to ptehr functions\n",
        "list(filter(lambda num: num%2 == 0,mynums))"
      ],
      "metadata": {
        "colab": {
          "base_uri": "https://localhost:8080/"
        },
        "id": "kHKiq7THSIGt",
        "outputId": "a90797b5-61f7-4b57-e44a-e412ed1b5429"
      },
      "execution_count": 19,
      "outputs": [
        {
          "output_type": "execute_result",
          "data": {
            "text/plain": [
              "[2, 4, 6]"
            ]
          },
          "metadata": {},
          "execution_count": 19
        }
      ]
    },
    {
      "cell_type": "code",
      "source": [
        "name = [\"irtaza\",\"ali\" ,\"murtaza\"]\n",
        "list(map(lambda x:x[0],names))"
      ],
      "metadata": {
        "colab": {
          "base_uri": "https://localhost:8080/"
        },
        "id": "aaDbfi-bTUcW",
        "outputId": "3ea43627-57a1-4bf9-93af-aaf8b20770ef"
      },
      "execution_count": 20,
      "outputs": [
        {
          "output_type": "execute_result",
          "data": {
            "text/plain": [
              "['i', 'm', 'a']"
            ]
          },
          "metadata": {},
          "execution_count": 20
        }
      ]
    },
    {
      "cell_type": "code",
      "source": [],
      "metadata": {
        "id": "U5OCDiJzVH8t"
      },
      "execution_count": null,
      "outputs": []
    },
    {
      "cell_type": "markdown",
      "source": [
        "\n",
        "\n",
        "---\n",
        "\n"
      ],
      "metadata": {
        "id": "wDqZidf5TncP"
      }
    },
    {
      "cell_type": "code",
      "source": [],
      "metadata": {
        "id": "T7GxVGZ_Tq_V"
      },
      "execution_count": null,
      "outputs": []
    }
  ]
}