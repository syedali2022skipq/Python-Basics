{
  "nbformat": 4,
  "nbformat_minor": 0,
  "metadata": {
    "colab": {
      "provenance": [],
      "collapsed_sections": [],
      "authorship_tag": "ABX9TyOiSblQhXf2iXaSNs/tyx+Y"
    },
    "kernelspec": {
      "name": "python3",
      "display_name": "Python 3"
    },
    "language_info": {
      "name": "python"
    }
  },
  "cells": [
    {
      "cell_type": "markdown",
      "source": [
        "OOP alows programmers to create their own objects and attributes\n",
        "as you know from past when we define a string, list, and dict we were able to mwthods\n",
        "call the methods for them like my_list.sort() sort is a method here that is build in and these methods act as functions.\n",
        "\n",
        "In OOP we can create our own objects  their atributes and functions\n",
        "\n",
        "Commonly repeated tasks and objects can be defined with OOP to create code that is usefull\n",
        "\n",
        "Syntax:\n",
        "\n",
        "class NameOfClass():\n",
        "  \n",
        "      def __init__(self,param1,param2):  \n",
        "        self.param1 = param1\n",
        "        self.param2 = param2\n",
        "\n",
        "      def some_method(self):\n",
        "        print(hello)\n",
        "  \n",
        "\n",
        "  note:\n",
        "  __init___ is a method when defining inside a class or function alows you to create an instace of the actual object\n",
        "\n",
        "  and  self.param1 = param1 .... when you pass in a parameter i.e param2 you go ahead and assign it to an artibute of a function that way python will know that when you say self.param2 you're actually refereing to the atribute param2 that's connected to this actual instance of the class not some other global variable\n",
        "\n",
        "then we hcan have various methods inside a class and these look alot like functions but you pass in the self keyword again as a param let python know that this isn't some function its a method that's connected to this class."
      ],
      "metadata": {
        "id": "Q1q4RQ54PWyv"
      }
    },
    {
      "cell_type": "code",
      "source": [
        "class Sample():\n",
        "  pass\n",
        "\n",
        "my_sample = Sample() # instance of a class\n",
        "type(my_sample)"
      ],
      "metadata": {
        "colab": {
          "base_uri": "https://localhost:8080/"
        },
        "id": "sbYviPvvOylP",
        "outputId": "8720d8df-caac-4be2-d59d-ca25d23057fe"
      },
      "execution_count": 2,
      "outputs": [
        {
          "output_type": "execute_result",
          "data": {
            "text/plain": [
              "__main__.Sample"
            ]
          },
          "metadata": {},
          "execution_count": 2
        }
      ]
    },
    {
      "cell_type": "code",
      "source": [
        "# lets create atributes now\n",
        "\n",
        "class Dog():\n",
        "\n",
        "  def __init__(self,breed): # constructor of a class\n",
        "    self.breed = breed      # we take in the argument and assign it using self.attribute_name\n",
        "\n",
        "my_dog = Dog(breed=\"lab\")\n",
        "type(my_dog)\n",
        "# we can see that we now have an instance of the dog class"
      ],
      "metadata": {
        "colab": {
          "base_uri": "https://localhost:8080/"
        },
        "id": "fNj5FaTjUtiu",
        "outputId": "82661cea-6761-43b6-9928-c8b54467ba64"
      },
      "execution_count": 11,
      "outputs": [
        {
          "output_type": "execute_result",
          "data": {
            "text/plain": [
              "__main__.Dog"
            ]
          },
          "metadata": {},
          "execution_count": 11
        }
      ]
    },
    {
      "cell_type": "code",
      "source": [
        "my_dog.breed"
      ],
      "metadata": {
        "colab": {
          "base_uri": "https://localhost:8080/",
          "height": 35
        },
        "id": "c1eM9301VhO0",
        "outputId": "7087920a-58c1-4236-d662-7a75c0405dd5"
      },
      "execution_count": 12,
      "outputs": [
        {
          "output_type": "execute_result",
          "data": {
            "text/plain": [
              "'lab'"
            ],
            "application/vnd.google.colaboratory.intrinsic+json": {
              "type": "string"
            }
          },
          "metadata": {},
          "execution_count": 12
        }
      ]
    },
    {
      "cell_type": "code",
      "source": [
        "# attributes can support multiple data types\n",
        "\n",
        "\n",
        "class Cat():\n",
        "\n",
        "  def __init__(self,breed,name,spots):\n",
        "    self.breed = breed\n",
        "    self.name = name\n",
        "    \n",
        "    # expect a boolean True/False\n",
        "    self.spots = spots\n",
        "\n",
        "my_cat = Cat(breed=\"asian\",name=\"lilly\",spots=True)\n",
        "my_cat.breed"
      ],
      "metadata": {
        "colab": {
          "base_uri": "https://localhost:8080/",
          "height": 35
        },
        "id": "kdvjPEIMW0TQ",
        "outputId": "1977f299-dd3e-4291-b5a9-114ff6ac5a0e"
      },
      "execution_count": 15,
      "outputs": [
        {
          "output_type": "execute_result",
          "data": {
            "text/plain": [
              "'asian'"
            ],
            "application/vnd.google.colaboratory.intrinsic+json": {
              "type": "string"
            }
          },
          "metadata": {},
          "execution_count": 15
        }
      ]
    },
    {
      "cell_type": "code",
      "source": [
        "my_cat.name"
      ],
      "metadata": {
        "colab": {
          "base_uri": "https://localhost:8080/",
          "height": 35
        },
        "id": "XU8aglgGXMLh",
        "outputId": "fca13b07-8e24-4684-dde7-a030ccb150d8"
      },
      "execution_count": 16,
      "outputs": [
        {
          "output_type": "execute_result",
          "data": {
            "text/plain": [
              "'lilly'"
            ],
            "application/vnd.google.colaboratory.intrinsic+json": {
              "type": "string"
            }
          },
          "metadata": {},
          "execution_count": 16
        }
      ]
    },
    {
      "cell_type": "code",
      "source": [
        "my_cat.spots"
      ],
      "metadata": {
        "colab": {
          "base_uri": "https://localhost:8080/"
        },
        "id": "hymiuFBxXuNL",
        "outputId": "fa65dd8c-f9c0-4007-9586-28529ce8c8f3"
      },
      "execution_count": 17,
      "outputs": [
        {
          "output_type": "execute_result",
          "data": {
            "text/plain": [
              "True"
            ]
          },
          "metadata": {},
          "execution_count": 17
        }
      ]
    },
    {
      "cell_type": "markdown",
      "source": [
        "Class Object Attributes that are same for any instance of the class are defined above the __inti__ method and becuase we know that its going to be same for any instance of the class so we will not use self keyword here"
      ],
      "metadata": {
        "id": "LgZTnEEvYQpM"
      }
    },
    {
      "cell_type": "code",
      "source": [
        "class Deer():\n",
        "\n",
        "  # class object attribute\n",
        "  species = \"mammal\"\n",
        "\n",
        "\n",
        "  def __init__(self,breed,name,spots):\n",
        "    self.breed = breed\n",
        "    self.name = name\n",
        "    \n",
        "    # expect a boolean True/False\n",
        "    self.spots = spots\n",
        "\n",
        "my_deer = Deer(breed=\"asian\",name=\"lilly\",spots=True)\n",
        "my_deer.species"
      ],
      "metadata": {
        "colab": {
          "base_uri": "https://localhost:8080/",
          "height": 35
        },
        "id": "vti-DnyOXwlQ",
        "outputId": "f2ee5e7a-66c9-4091-f746-4b9fd830775f"
      },
      "execution_count": 19,
      "outputs": [
        {
          "output_type": "execute_result",
          "data": {
            "text/plain": [
              "'mammal'"
            ],
            "application/vnd.google.colaboratory.intrinsic+json": {
              "type": "string"
            }
          },
          "metadata": {},
          "execution_count": 19
        }
      ]
    },
    {
      "cell_type": "code",
      "source": [
        "my_second_deer = Deer(breed=\"asian\",name=\"lilly\",spots=True)\n",
        "my_second_deer.species # its avaible to any class atrribute"
      ],
      "metadata": {
        "colab": {
          "base_uri": "https://localhost:8080/",
          "height": 35
        },
        "id": "E7cYVldbZlTt",
        "outputId": "1124e648-678e-4482-eeb9-8e21535f00d5"
      },
      "execution_count": 21,
      "outputs": [
        {
          "output_type": "execute_result",
          "data": {
            "text/plain": [
              "'mammal'"
            ],
            "application/vnd.google.colaboratory.intrinsic+json": {
              "type": "string"
            }
          },
          "metadata": {},
          "execution_count": 21
        }
      ]
    },
    {
      "cell_type": "markdown",
      "source": [
        "## Methods"
      ],
      "metadata": {
        "id": "BOBxYOCWZxqe"
      }
    },
    {
      "cell_type": "code",
      "source": [
        "# actions/operations\n",
        "\n",
        "class Car():\n",
        "\n",
        "  # class atribute\n",
        "  cartype = \"vehicle\"\n",
        "\n",
        "  def __init__(self,color,model):\n",
        "    self.color = color\n",
        "    self.model = model\n",
        "  \n",
        "  # method/actions\n",
        "  def start(self):\n",
        "    print(\"car is starting\")\n",
        "\n",
        "my_car = Car(color=\"black\",model=2008)\n",
        "my_car.start() # .start() will act like methods we used to call on built in types like list strings etc"
      ],
      "metadata": {
        "colab": {
          "base_uri": "https://localhost:8080/"
        },
        "id": "Ol8wGleiZ1Zr",
        "outputId": "ffa4fefa-3454-4894-98fb-81e108e5736d"
      },
      "execution_count": 29,
      "outputs": [
        {
          "output_type": "stream",
          "name": "stdout",
          "text": [
            "car is starting\n"
          ]
        }
      ]
    },
    {
      "cell_type": "code",
      "source": [
        "my_car.model"
      ],
      "metadata": {
        "colab": {
          "base_uri": "https://localhost:8080/"
        },
        "id": "f3vFWEQObI-o",
        "outputId": "845e6ad1-eb2d-4925-c667-a5b0181d462a"
      },
      "execution_count": 30,
      "outputs": [
        {
          "output_type": "execute_result",
          "data": {
            "text/plain": [
              "2008"
            ]
          },
          "metadata": {},
          "execution_count": 30
        }
      ]
    },
    {
      "cell_type": "code",
      "source": [
        "# methods can use info of the object in this case start() has access to color and model we can use it\n",
        "\n",
        "# actions/operations\n",
        "\n",
        "class Car():\n",
        "\n",
        "  # class atribute\n",
        "  cartype = \"vehicle\"\n",
        "\n",
        "  def __init__(self,color,model):\n",
        "    self.color = color\n",
        "    self.model = model\n",
        "  \n",
        "  # method/actions\n",
        "  def start(self):\n",
        "    print(f\"car of the color: {self.color} and model: {self.model} is starting\")\n",
        "\n",
        "my_car = Car(color=\"black\",model=2008)\n",
        "my_car.start()"
      ],
      "metadata": {
        "colab": {
          "base_uri": "https://localhost:8080/"
        },
        "id": "IKygzOYCbMnF",
        "outputId": "9325a09f-2a67-4ccc-e589-984b6e7f2502"
      },
      "execution_count": 31,
      "outputs": [
        {
          "output_type": "stream",
          "name": "stdout",
          "text": [
            "car of the color: black and model: 2008 is starting\n"
          ]
        }
      ]
    },
    {
      "cell_type": "code",
      "source": [
        "# methods can also take outside arguments other then the class's ones\n",
        "\n",
        "class Car():\n",
        "\n",
        "  # class atribute\n",
        "  cartype = \"vehicle\"\n",
        "\n",
        "  def __init__(self,color,model):\n",
        "    self.color = color\n",
        "    self.model = model\n",
        "  \n",
        "  # method/actions\n",
        "  def start(self,price):\n",
        "    # you can see i didn't use self.price here because its an outside argument\n",
        "    print(f\"car of the color: {self.color} and model: {self.model} is starting, and my price it {price}\")\n",
        "\n",
        "my_car = Car(color=\"black\",model=2008)\n",
        "my_car.start(3444)"
      ],
      "metadata": {
        "colab": {
          "base_uri": "https://localhost:8080/"
        },
        "id": "Mz9aDV-_cIm9",
        "outputId": "471ae638-f0bb-4f90-9a7f-c9f78e56b1da"
      },
      "execution_count": 34,
      "outputs": [
        {
          "output_type": "stream",
          "name": "stdout",
          "text": [
            "car of the color: black and model: 2008 is starting, and my price it 3444\n"
          ]
        }
      ]
    },
    {
      "cell_type": "code",
      "source": [],
      "metadata": {
        "id": "-qkLCMpOc8Wz"
      },
      "execution_count": null,
      "outputs": []
    },
    {
      "cell_type": "code",
      "source": [
        "class Circle():\n",
        "\n",
        "  #class object attribute\n",
        "  pi = 3.14  #because for any instance we create we know that pi value will remain same for all of that that's we we define it a class object atribute\n",
        "\n",
        "  def __init__(self,radius=1): # we can also provide default parameters\n",
        "    self.radius = radius\n",
        "\n",
        "  # method\n",
        "  def my_circumference(self):\n",
        "    return self.radius * self.pi * 2\n",
        "\n",
        "# instance\n",
        "my_circle = Circle()\n",
        "my_circle.pi\n"
      ],
      "metadata": {
        "colab": {
          "base_uri": "https://localhost:8080/"
        },
        "id": "z1hVs-Dwc8Zp",
        "outputId": "c0639fbe-ec61-437a-d8d9-70a3e0d41018"
      },
      "execution_count": 36,
      "outputs": [
        {
          "output_type": "execute_result",
          "data": {
            "text/plain": [
              "3.14"
            ]
          },
          "metadata": {},
          "execution_count": 36
        }
      ]
    },
    {
      "cell_type": "code",
      "source": [
        "my_circle.radius # because if don't provide value it will use the default val"
      ],
      "metadata": {
        "colab": {
          "base_uri": "https://localhost:8080/"
        },
        "id": "XfyjTgh1d1at",
        "outputId": "7aa68596-f9dd-4f6a-b091-ba1a9691b486"
      },
      "execution_count": 38,
      "outputs": [
        {
          "output_type": "execute_result",
          "data": {
            "text/plain": [
              "1"
            ]
          },
          "metadata": {},
          "execution_count": 38
        }
      ]
    },
    {
      "cell_type": "code",
      "source": [
        "my_second_circle = Circle(39) # provided radius value\n",
        "my_second_circle.radius"
      ],
      "metadata": {
        "colab": {
          "base_uri": "https://localhost:8080/"
        },
        "id": "pbSloh1feB0K",
        "outputId": "961fbca0-4b85-4289-955d-39f3465859c2"
      },
      "execution_count": 39,
      "outputs": [
        {
          "output_type": "execute_result",
          "data": {
            "text/plain": [
              "39"
            ]
          },
          "metadata": {},
          "execution_count": 39
        }
      ]
    },
    {
      "cell_type": "code",
      "source": [
        "my_second_circle.my_circumference() # call the method"
      ],
      "metadata": {
        "colab": {
          "base_uri": "https://localhost:8080/"
        },
        "id": "IQVNIn61eKqY",
        "outputId": "08031d1b-a4a0-4717-8990-25c111ac2cda"
      },
      "execution_count": 40,
      "outputs": [
        {
          "output_type": "execute_result",
          "data": {
            "text/plain": [
              "244.92000000000002"
            ]
          },
          "metadata": {},
          "execution_count": 40
        }
      ]
    },
    {
      "cell_type": "markdown",
      "source": [
        "# Inheritance"
      ],
      "metadata": {
        "id": "p8738EWQedmK"
      }
    },
    {
      "cell_type": "markdown",
      "source": [
        "It a way to form new classes using classes that have been already defined"
      ],
      "metadata": {
        "id": "SEOTct9glpRu"
      }
    },
    {
      "cell_type": "code",
      "source": [
        "# base class\n",
        "\n",
        "class Animal():\n",
        "\n",
        "  def __init__(self):\n",
        "    print(\"animal created\")\n",
        "  \n",
        "  #method 1 \n",
        "  def who_am_i(self):\n",
        "    print(\"i am animal\")\n",
        "\n",
        "  # method 2\n",
        "  def eat(self):\n",
        "    print(\"i'm eating\")\n",
        "\n",
        "myanimal = Animal()"
      ],
      "metadata": {
        "colab": {
          "base_uri": "https://localhost:8080/"
        },
        "id": "BexztflMhTR_",
        "outputId": "ef1a623a-d97d-4f4b-ca7a-d61957c7053f"
      },
      "execution_count": 41,
      "outputs": [
        {
          "output_type": "stream",
          "name": "stdout",
          "text": [
            "animal created\n"
          ]
        }
      ]
    },
    {
      "cell_type": "code",
      "source": [
        "myanimal.eat()"
      ],
      "metadata": {
        "colab": {
          "base_uri": "https://localhost:8080/"
        },
        "id": "zXDqyfSSmNUV",
        "outputId": "fb68b6c1-fbc4-4385-b9e2-0a26696edbc7"
      },
      "execution_count": 43,
      "outputs": [
        {
          "output_type": "stream",
          "name": "stdout",
          "text": [
            "i'm eating\n"
          ]
        }
      ]
    },
    {
      "cell_type": "code",
      "source": [
        "# now we know that all the animals wants to eat. so instead of defining \n",
        "# the eat method again in my sheep class i can just inherit it from the base class i.e animal class\n",
        "\n",
        "class Sheep(Animal):  # inherit from base/derived class\n",
        "\n",
        "  def __init__(self):\n",
        "    Animal.__init__(self)\n",
        "    print(\"sheep Created\")\n",
        "\n",
        "my_sheep = Sheep() # now here we can see that it says animal created and also sheep created because we're inheriting animal in this class "
      ],
      "metadata": {
        "colab": {
          "base_uri": "https://localhost:8080/"
        },
        "id": "y7xnr6pImWnt",
        "outputId": "c82294ed-449d-4a88-a4b8-7a20b81e4915"
      },
      "execution_count": 45,
      "outputs": [
        {
          "output_type": "stream",
          "name": "stdout",
          "text": [
            "animal created\n",
            "sheep Created\n"
          ]
        }
      ]
    },
    {
      "cell_type": "code",
      "source": [
        "# now all the methods inside my animal class now available in my sheep class even tho i didn;t defined it in this class this is inheritance\n",
        "\n",
        "my_sheep.eat()"
      ],
      "metadata": {
        "colab": {
          "base_uri": "https://localhost:8080/"
        },
        "id": "TcFpxZ9xnsLX",
        "outputId": "0bb4fd6d-88a0-4e74-b9db-1116046ddc83"
      },
      "execution_count": 46,
      "outputs": [
        {
          "output_type": "stream",
          "name": "stdout",
          "text": [
            "i'm eating\n"
          ]
        }
      ]
    },
    {
      "cell_type": "code",
      "source": [
        "my_sheep.who_am_i()"
      ],
      "metadata": {
        "colab": {
          "base_uri": "https://localhost:8080/"
        },
        "id": "MawaFa30oNYD",
        "outputId": "6c3ad210-c76f-44e9-d8cb-6efcb966cfb1"
      },
      "execution_count": 47,
      "outputs": [
        {
          "output_type": "stream",
          "name": "stdout",
          "text": [
            "i am animal\n"
          ]
        }
      ]
    },
    {
      "cell_type": "code",
      "source": [
        "# we can also override the method in our child class\n",
        "# and child class have other methods to\n",
        "\n",
        "\n",
        "class Sheep(Animal):  # inherit from base/derived class\n",
        "\n",
        "  def __init__(self):\n",
        "    Animal.__init__(self)\n",
        "    print(\"sheep Created\")\n",
        "\n",
        "  def who_am_i(self):\n",
        "    print(\"i'm a sheep\")\n",
        "\n",
        "  def am_i_awake(self):\n",
        "    print(\"sleeping\")\n",
        "\n",
        "my_sheep = Sheep()"
      ],
      "metadata": {
        "colab": {
          "base_uri": "https://localhost:8080/"
        },
        "id": "n_p-5eBvoQ2Y",
        "outputId": "b199d953-bbdf-43d2-ac34-45b882a7416e"
      },
      "execution_count": 50,
      "outputs": [
        {
          "output_type": "stream",
          "name": "stdout",
          "text": [
            "animal created\n",
            "sheep Created\n"
          ]
        }
      ]
    },
    {
      "cell_type": "code",
      "source": [
        "my_sheep.who_am_i()"
      ],
      "metadata": {
        "colab": {
          "base_uri": "https://localhost:8080/"
        },
        "id": "YtiKazW_oeq5",
        "outputId": "d7a3dd4d-cdd7-4000-ee69-919f802af620"
      },
      "execution_count": 51,
      "outputs": [
        {
          "output_type": "stream",
          "name": "stdout",
          "text": [
            "i'm a sheep\n"
          ]
        }
      ]
    },
    {
      "cell_type": "code",
      "source": [
        "my_sheep.am_i_awake()"
      ],
      "metadata": {
        "colab": {
          "base_uri": "https://localhost:8080/"
        },
        "id": "j0F2fhruo21m",
        "outputId": "31909175-a059-4f34-f1ad-c8d87397ec8e"
      },
      "execution_count": 52,
      "outputs": [
        {
          "output_type": "stream",
          "name": "stdout",
          "text": [
            "sleeping\n"
          ]
        }
      ]
    },
    {
      "cell_type": "markdown",
      "source": [
        "# polymorphism"
      ],
      "metadata": {
        "id": "i024scr3olBz"
      }
    },
    {
      "cell_type": "markdown",
      "source": [
        "Diff object classes can share the same method names and those methods can be called from the same place even tho veriety of objects migth be passed in "
      ],
      "metadata": {
        "id": "PMn4dHJBpC9P"
      }
    },
    {
      "cell_type": "code",
      "source": [
        "class Dog():\n",
        "\n",
        "  def __init__(self,name):\n",
        "    self.name = name\n",
        "\n",
        "  def speak(self):\n",
        "    return self.name + \"says hello\""
      ],
      "metadata": {
        "id": "wj027BJwpCIp"
      },
      "execution_count": 53,
      "outputs": []
    },
    {
      "cell_type": "code",
      "source": [
        "class Cat():\n",
        "\n",
        "  def __init__(self,name):\n",
        "    self.name = name\n",
        "\n",
        "  def speak(self):\n",
        "    return self.name + \"says meww\""
      ],
      "metadata": {
        "id": "CJq5Wp-JsHZ2"
      },
      "execution_count": 54,
      "outputs": []
    },
    {
      "cell_type": "code",
      "source": [
        "niko = Dog(\"niko\")\n",
        "lilly = Cat(\"lilly\")"
      ],
      "metadata": {
        "id": "ui7rt1xPsQAy"
      },
      "execution_count": 55,
      "outputs": []
    },
    {
      "cell_type": "code",
      "source": [
        "# both have same method names but behave differently\n",
        "#and we get object specific results\n",
        "\n",
        "niko.speak()"
      ],
      "metadata": {
        "colab": {
          "base_uri": "https://localhost:8080/",
          "height": 35
        },
        "id": "iu9orwUisYG9",
        "outputId": "974bf5e6-860e-44a3-aa2b-5af9ee607ef9"
      },
      "execution_count": 58,
      "outputs": [
        {
          "output_type": "execute_result",
          "data": {
            "text/plain": [
              "'nikosays hello'"
            ],
            "application/vnd.google.colaboratory.intrinsic+json": {
              "type": "string"
            }
          },
          "metadata": {},
          "execution_count": 58
        }
      ]
    },
    {
      "cell_type": "code",
      "source": [
        "lilly.speak()"
      ],
      "metadata": {
        "colab": {
          "base_uri": "https://localhost:8080/",
          "height": 35
        },
        "id": "PW6hLzZKsbNX",
        "outputId": "86e661ad-e2f2-495c-a8a9-ce03a851e5f8"
      },
      "execution_count": 57,
      "outputs": [
        {
          "output_type": "execute_result",
          "data": {
            "text/plain": [
              "'lillysays meww'"
            ],
            "application/vnd.google.colaboratory.intrinsic+json": {
              "type": "string"
            }
          },
          "metadata": {},
          "execution_count": 57
        }
      ]
    },
    {
      "cell_type": "code",
      "source": [],
      "metadata": {
        "id": "fIbTXkLOtJGY"
      },
      "execution_count": null,
      "outputs": []
    },
    {
      "cell_type": "markdown",
      "source": [
        "Most common practice is to use abstract classes and inheritance"
      ],
      "metadata": {
        "id": "u065-tOStafa"
      }
    },
    {
      "cell_type": "code",
      "source": [
        "# an abstract class is something that never wanted to have any instances\n",
        "# instead its just design to basically serve as a base class\n",
        "\n",
        "class Animal():\n",
        "\n",
        "  def __init__(self,name):\n",
        "    self.name = name\n",
        "\n",
        "  def speak(self):\n",
        "      # raise error advance concept just forget it now\n",
        "      # what we want to do is to have a speak method and make sub classes override this speak method\n",
        "\n",
        "      raise NotImplementedError(\"Subclass must implement this abstract method\") "
      ],
      "metadata": {
        "id": "6AUfmfMBthjQ"
      },
      "execution_count": 65,
      "outputs": []
    },
    {
      "cell_type": "code",
      "source": [
        "# as we know we don't expect this calss to ahve any instances\n",
        "# but lets do it to understand\n",
        "\n",
        "my_animal = Animal(\"tommy\")"
      ],
      "metadata": {
        "id": "Rt98qo52unQC"
      },
      "execution_count": 66,
      "outputs": []
    },
    {
      "cell_type": "code",
      "source": [
        "my_animal.speak()"
      ],
      "metadata": {
        "colab": {
          "base_uri": "https://localhost:8080/",
          "height": 252
        },
        "id": "Dbax5HuovEDI",
        "outputId": "d77fec4a-58a3-47ca-cca0-f7954e1ec316"
      },
      "execution_count": 67,
      "outputs": [
        {
          "output_type": "error",
          "ename": "NotImplementedError",
          "evalue": "ignored",
          "traceback": [
            "\u001b[0;31m---------------------------------------------------------------------------\u001b[0m",
            "\u001b[0;31mNotImplementedError\u001b[0m                       Traceback (most recent call last)",
            "\u001b[0;32m<ipython-input-67-ed4198de9ea6>\u001b[0m in \u001b[0;36m<module>\u001b[0;34m\u001b[0m\n\u001b[0;32m----> 1\u001b[0;31m \u001b[0mmy_animal\u001b[0m\u001b[0;34m.\u001b[0m\u001b[0mspeak\u001b[0m\u001b[0;34m(\u001b[0m\u001b[0;34m)\u001b[0m\u001b[0;34m\u001b[0m\u001b[0;34m\u001b[0m\u001b[0m\n\u001b[0m",
            "\u001b[0;32m<ipython-input-65-316149975a0b>\u001b[0m in \u001b[0;36mspeak\u001b[0;34m(self)\u001b[0m\n\u001b[1;32m     11\u001b[0m       \u001b[0;31m# what we want to do is to have a speak method and make sub classes override this speak method\u001b[0m\u001b[0;34m\u001b[0m\u001b[0;34m\u001b[0m\u001b[0;34m\u001b[0m\u001b[0m\n\u001b[1;32m     12\u001b[0m \u001b[0;34m\u001b[0m\u001b[0m\n\u001b[0;32m---> 13\u001b[0;31m       \u001b[0;32mraise\u001b[0m \u001b[0mNotImplementedError\u001b[0m\u001b[0;34m(\u001b[0m\u001b[0;34m\"Subclass must implement this abstract method\"\u001b[0m\u001b[0;34m)\u001b[0m\u001b[0;34m\u001b[0m\u001b[0;34m\u001b[0m\u001b[0m\n\u001b[0m",
            "\u001b[0;31mNotImplementedError\u001b[0m: Subclass must implement this abstract method"
          ]
        }
      ]
    },
    {
      "cell_type": "code",
      "source": [],
      "metadata": {
        "id": "g5uAEtk5vQnN"
      },
      "execution_count": null,
      "outputs": []
    },
    {
      "cell_type": "code",
      "source": [
        "class Dog(Animal):\n",
        "  \n",
        "  def speak(self):\n",
        "    return self.name + \" says hello\""
      ],
      "metadata": {
        "id": "OPcq0YP4vQu9"
      },
      "execution_count": 72,
      "outputs": []
    },
    {
      "cell_type": "code",
      "source": [
        "class Cat(Animal):\n",
        "\n",
        "  def speak(self):\n",
        "    return self.name + \" says meww\""
      ],
      "metadata": {
        "id": "-u0OYFcsvw7G"
      },
      "execution_count": 73,
      "outputs": []
    },
    {
      "cell_type": "code",
      "source": [
        "fido = Dog(\"fido\")\n",
        "lil = Cat(\"lil\")"
      ],
      "metadata": {
        "id": "G2aIKqDdv4eI"
      },
      "execution_count": 74,
      "outputs": []
    },
    {
      "cell_type": "code",
      "source": [
        "print(lil.speak())"
      ],
      "metadata": {
        "colab": {
          "base_uri": "https://localhost:8080/"
        },
        "id": "ZbIPIEIgv-wv",
        "outputId": "a54968ce-31a7-45fb-8c3d-b5fda9813dfd"
      },
      "execution_count": 75,
      "outputs": [
        {
          "output_type": "stream",
          "name": "stdout",
          "text": [
            "lil says meww\n"
          ]
        }
      ]
    }
  ]
}