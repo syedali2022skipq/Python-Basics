{
  "nbformat": 4,
  "nbformat_minor": 0,
  "metadata": {
    "colab": {
      "provenance": [],
      "authorship_tag": "ABX9TyMK3Rr8WETB/Dp2PmpIkHL3",
      "include_colab_link": true
    },
    "kernelspec": {
      "name": "python3",
      "display_name": "Python 3"
    },
    "language_info": {
      "name": "python"
    }
  },
  "cells": [
    {
      "cell_type": "markdown",
      "metadata": {
        "id": "view-in-github",
        "colab_type": "text"
      },
      "source": [
        "<a href=\"https://colab.research.google.com/github/syedali2022skipq/Python-Basics/blob/main/Python_Objects_and_Data_Types_Basics.ipynb\" target=\"_parent\"><img src=\"https://colab.research.google.com/assets/colab-badge.svg\" alt=\"Open In Colab\"/></a>"
      ]
    },
    {
      "cell_type": "code",
      "execution_count": 4,
      "metadata": {
        "id": "SUXbI0eELrA0"
      },
      "outputs": [],
      "source": [
        "# Python Objects and Data Types Basics"
      ]
    },
    {
      "cell_type": "markdown",
      "source": [
        "**Numbers**"
      ],
      "metadata": {
        "id": "yWI2P9h3PMG6"
      }
    },
    {
      "cell_type": "code",
      "source": [
        "# mod\n",
        "#23 % 2\n",
        "\n",
        "# power\n",
        "2 ** 3"
      ],
      "metadata": {
        "colab": {
          "base_uri": "https://localhost:8080/"
        },
        "id": "VRhEh01gPIeN",
        "outputId": "6f647db6-3b75-4e45-e85a-e5c59801e18c"
      },
      "execution_count": 14,
      "outputs": [
        {
          "output_type": "execute_result",
          "data": {
            "text/plain": [
              "8"
            ]
          },
          "metadata": {},
          "execution_count": 14
        }
      ]
    },
    {
      "cell_type": "markdown",
      "source": [
        "**Python is dynamically typed which means in python you can switch between types easily. in other languages if you declare a variable as int and later in the code you assigned it an array it will give and error but not in python. pros are that its fast and easy to use and cons are you have to know the data types you are working with**"
      ],
      "metadata": {
        "id": "uvxIyoNkQVRx"
      }
    },
    {
      "cell_type": "code",
      "source": [
        "my_arr = 2\n",
        "my_arr = [\"irtaza\"]\n",
        "print(my_arr)"
      ],
      "metadata": {
        "colab": {
          "base_uri": "https://localhost:8080/"
        },
        "id": "pTlAijqlQUob",
        "outputId": "f88d58b5-e2fd-4b83-ebc4-0b0d23faf61a"
      },
      "execution_count": 16,
      "outputs": [
        {
          "output_type": "stream",
          "name": "stdout",
          "text": [
            "['irtaza']\n"
          ]
        }
      ]
    },
    {
      "cell_type": "markdown",
      "source": [
        "**Variables**"
      ],
      "metadata": {
        "id": "LNHB2MWkR9qE"
      }
    },
    {
      "cell_type": "code",
      "source": [
        "a = 5\n",
        "type(a)"
      ],
      "metadata": {
        "colab": {
          "base_uri": "https://localhost:8080/"
        },
        "id": "nEt7k20zR85d",
        "outputId": "4609d182-ba03-4c19-c908-e26f2199f201"
      },
      "execution_count": 19,
      "outputs": [
        {
          "output_type": "execute_result",
          "data": {
            "text/plain": [
              "int"
            ]
          },
          "metadata": {},
          "execution_count": 19
        }
      ]
    },
    {
      "cell_type": "markdown",
      "source": [
        "**Strings**"
      ],
      "metadata": {
        "id": "Zm7GjuJ1VnG4"
      }
    },
    {
      "cell_type": "code",
      "source": [
        "# we can use indexing and slicing to get the sub-sections of the strings\n",
        "# you can use [] to get the individual string character\n",
        "# you can also reverse the string so if you want to get the last letter of the str just say -1 and it will return the last letter\n",
        "\n",
        "len(\"hello\") # to find the length"
      ],
      "metadata": {
        "colab": {
          "base_uri": "https://localhost:8080/"
        },
        "id": "SWkhAUyqVr3X",
        "outputId": "656c3fba-8511-4cb1-a28c-6c4f27647ce6"
      },
      "execution_count": 28,
      "outputs": [
        {
          "output_type": "execute_result",
          "data": {
            "text/plain": [
              "5"
            ]
          },
          "metadata": {},
          "execution_count": 28
        }
      ]
    },
    {
      "cell_type": "code",
      "source": [
        "# String indexing and slicing\n",
        "# indexing -> grab single char and slicing -> sub-section\n",
        "\n",
        "my_string = \"abcdefghijklmnopqrs\"\n",
        "my_string[5]\n"
      ],
      "metadata": {
        "colab": {
          "base_uri": "https://localhost:8080/",
          "height": 35
        },
        "id": "AA2dtJFlfHFv",
        "outputId": "3b3ec84b-b86b-43a2-a656-e2005415a0bb"
      },
      "execution_count": 29,
      "outputs": [
        {
          "output_type": "execute_result",
          "data": {
            "text/plain": [
              "'f'"
            ],
            "application/vnd.google.colaboratory.intrinsic+json": {
              "type": "string"
            }
          },
          "metadata": {},
          "execution_count": 29
        }
      ]
    },
    {
      "cell_type": "code",
      "source": [
        "# reverse indexing\n",
        "# my_string[-2]\n",
        "\n",
        "#slicing\n",
        "# my_string[Start:stop:step]\n",
        "#start means slice the srting from that index, stop means to that index but not include that index, step -> size of the jump you take\n",
        "\n",
        "my_string[2:] # it will return string form 2nd index to ownwards"
      ],
      "metadata": {
        "colab": {
          "base_uri": "https://localhost:8080/",
          "height": 35
        },
        "id": "zcqWkIgxfMJF",
        "outputId": "b48e1b3a-acbd-47c5-d2d1-34520084fd87"
      },
      "execution_count": 30,
      "outputs": [
        {
          "output_type": "execute_result",
          "data": {
            "text/plain": [
              "'cdefghijklmnopqrs'"
            ],
            "application/vnd.google.colaboratory.intrinsic+json": {
              "type": "string"
            }
          },
          "metadata": {},
          "execution_count": 30
        }
      ]
    },
    {
      "cell_type": "code",
      "source": [
        "my_string[:3] # grab upto 3rd index and third index doesn't include in it"
      ],
      "metadata": {
        "colab": {
          "base_uri": "https://localhost:8080/",
          "height": 35
        },
        "id": "CH-yxiDkfPbo",
        "outputId": "5fa49283-e62b-4e33-af3b-8312209cf8eb"
      },
      "execution_count": 31,
      "outputs": [
        {
          "output_type": "execute_result",
          "data": {
            "text/plain": [
              "'abc'"
            ],
            "application/vnd.google.colaboratory.intrinsic+json": {
              "type": "string"
            }
          },
          "metadata": {},
          "execution_count": 31
        }
      ]
    },
    {
      "cell_type": "code",
      "source": [
        "my_string[2:9]"
      ],
      "metadata": {
        "colab": {
          "base_uri": "https://localhost:8080/",
          "height": 35
        },
        "id": "6C-K9Sfsfv1j",
        "outputId": "6d6591d3-f202-4c4b-c160-43012fa861cf"
      },
      "execution_count": 32,
      "outputs": [
        {
          "output_type": "execute_result",
          "data": {
            "text/plain": [
              "'cdefghi'"
            ],
            "application/vnd.google.colaboratory.intrinsic+json": {
              "type": "string"
            }
          },
          "metadata": {},
          "execution_count": 32
        }
      ]
    },
    {
      "cell_type": "code",
      "source": [
        "my_string[::] # all the way from begining to the end"
      ],
      "metadata": {
        "id": "6t8W5tD5f6Ln"
      },
      "execution_count": null,
      "outputs": []
    },
    {
      "cell_type": "code",
      "source": [
        "my_string[::2] # step size of 2 means it will grab the string with with jums of two like a to c to e etc "
      ],
      "metadata": {
        "colab": {
          "base_uri": "https://localhost:8080/",
          "height": 35
        },
        "id": "KfGRoJNoghnq",
        "outputId": "8d8b0308-d644-4e9d-b16b-d7d64a9e62d0"
      },
      "execution_count": 35,
      "outputs": [
        {
          "output_type": "execute_result",
          "data": {
            "text/plain": [
              "'acegikmoqs'"
            ],
            "application/vnd.google.colaboratory.intrinsic+json": {
              "type": "string"
            }
          },
          "metadata": {},
          "execution_count": 35
        }
      ]
    },
    {
      "cell_type": "code",
      "source": [
        "# we can also reverse the string using the step size\n",
        "my_string[::-1]"
      ],
      "metadata": {
        "colab": {
          "base_uri": "https://localhost:8080/",
          "height": 35
        },
        "id": "3qpm2ZsbhU-b",
        "outputId": "8213852e-fdae-442e-86b6-1a2046866429"
      },
      "execution_count": 36,
      "outputs": [
        {
          "output_type": "execute_result",
          "data": {
            "text/plain": [
              "'srqponmlkjihgfedcba'"
            ],
            "application/vnd.google.colaboratory.intrinsic+json": {
              "type": "string"
            }
          },
          "metadata": {},
          "execution_count": 36
        }
      ]
    },
    {
      "cell_type": "markdown",
      "source": [
        "**String properties and Methods**"
      ],
      "metadata": {
        "id": "PHwSeDBChwiY"
      }
    },
    {
      "cell_type": "code",
      "source": [
        "# Immutability\n",
        "# immutability -> can't change\n",
        "name = \"sam\"\n",
        "# name[0] = \"p\" \n",
        "# it will through error because strings are immutable and in this exp we can't chcnage first letter to p\n",
        "# if we want to chnage it, we have to make a new string and use concatenation to join two strings\n",
        "\n",
        "# string concatenation\n",
        "last_letter = name[1:]\n",
        "\"p\" + last_letter"
      ],
      "metadata": {
        "colab": {
          "base_uri": "https://localhost:8080/",
          "height": 35
        },
        "id": "mcWjKVqphbjH",
        "outputId": "663bbd84-45f5-44e8-94e2-3058685f7eaf"
      },
      "execution_count": 41,
      "outputs": [
        {
          "output_type": "execute_result",
          "data": {
            "text/plain": [
              "'pam'"
            ],
            "application/vnd.google.colaboratory.intrinsic+json": {
              "type": "string"
            }
          },
          "metadata": {},
          "execution_count": 41
        }
      ]
    },
    {
      "cell_type": "code",
      "source": [
        "# muliple string concetenations\n",
        "last_letter * 10"
      ],
      "metadata": {
        "colab": {
          "base_uri": "https://localhost:8080/",
          "height": 35
        },
        "id": "hhEtb8-Ajfyi",
        "outputId": "ddd9ff9d-b545-403a-98aa-6c71090e00f4"
      },
      "execution_count": 42,
      "outputs": [
        {
          "output_type": "execute_result",
          "data": {
            "text/plain": [
              "'amamamamamamamamamam'"
            ],
            "application/vnd.google.colaboratory.intrinsic+json": {
              "type": "string"
            }
          },
          "metadata": {},
          "execution_count": 42
        }
      ]
    },
    {
      "cell_type": "code",
      "source": [
        "# you can't concetenate diff types\n",
        "last_letter + 12\n",
        "# it will through error"
      ],
      "metadata": {
        "id": "2KCDGzMukAAA"
      },
      "execution_count": 44,
      "outputs": []
    },
    {
      "cell_type": "markdown",
      "source": [
        "**Methods**"
      ],
      "metadata": {
        "id": "m5vLiU3KkrtD"
      }
    },
    {
      "cell_type": "code",
      "source": [
        "x = \"hello\"\n",
        "x.capitalize() #it will not change the original str\n",
        "x"
      ],
      "metadata": {
        "colab": {
          "base_uri": "https://localhost:8080/",
          "height": 35
        },
        "id": "eD3yuK9akWYV",
        "outputId": "c1aba4a0-d913-4efa-aac4-6aec3bacdd34"
      },
      "execution_count": 53,
      "outputs": [
        {
          "output_type": "execute_result",
          "data": {
            "text/plain": [
              "'hello'"
            ],
            "application/vnd.google.colaboratory.intrinsic+json": {
              "type": "string"
            }
          },
          "metadata": {},
          "execution_count": 53
        }
      ]
    },
    {
      "cell_type": "code",
      "source": [
        "# to change the original str you have to do this\n",
        "x = x.capitalize()\n",
        "x"
      ],
      "metadata": {
        "colab": {
          "base_uri": "https://localhost:8080/",
          "height": 35
        },
        "id": "7pOOLvy6lY07",
        "outputId": "676608de-93ab-46f2-a56d-1775a6d5410d"
      },
      "execution_count": 52,
      "outputs": [
        {
          "output_type": "execute_result",
          "data": {
            "text/plain": [
              "'Hello'"
            ],
            "application/vnd.google.colaboratory.intrinsic+json": {
              "type": "string"
            }
          },
          "metadata": {},
          "execution_count": 52
        }
      ]
    },
    {
      "cell_type": "code",
      "source": [
        "x.upper()\n",
        "x"
      ],
      "metadata": {
        "colab": {
          "base_uri": "https://localhost:8080/",
          "height": 35
        },
        "id": "3DSGnMw1lZhm",
        "outputId": "175578c1-cf6b-4da4-b652-4c51000ab3a4"
      },
      "execution_count": 54,
      "outputs": [
        {
          "output_type": "execute_result",
          "data": {
            "text/plain": [
              "'HELLO'"
            ],
            "application/vnd.google.colaboratory.intrinsic+json": {
              "type": "string"
            }
          },
          "metadata": {},
          "execution_count": 54
        }
      ]
    },
    {
      "cell_type": "code",
      "source": [
        "# decalre and put . in the end python will show you all the methods available\n",
        "x = \"Hello World it is good\"\n",
        "x.split()"
      ],
      "metadata": {
        "colab": {
          "base_uri": "https://localhost:8080/"
        },
        "id": "KJI-j8NAlrHy",
        "outputId": "e01aeb74-b89e-4af9-9690-21b1167cdc90"
      },
      "execution_count": 62,
      "outputs": [
        {
          "output_type": "execute_result",
          "data": {
            "text/plain": [
              "['Hello', 'World', 'it', 'is', 'good']"
            ]
          },
          "metadata": {},
          "execution_count": 62
        }
      ]
    },
    {
      "cell_type": "code",
      "source": [
        "# we can also split on individual letter\n",
        "x.split(\"i\") # it basically removed i from the string"
      ],
      "metadata": {
        "colab": {
          "base_uri": "https://localhost:8080/"
        },
        "id": "LJJyqQjAm04i",
        "outputId": "46c364ba-b133-4d24-d39e-156f39b3396b"
      },
      "execution_count": 63,
      "outputs": [
        {
          "output_type": "execute_result",
          "data": {
            "text/plain": [
              "['Hello World ', 't ', 's good']"
            ]
          },
          "metadata": {},
          "execution_count": 63
        }
      ]
    },
    {
      "cell_type": "markdown",
      "source": [
        "**string fomatting for printing**"
      ],
      "metadata": {
        "id": "IMnthqg5ueCK"
      }
    },
    {
      "cell_type": "code",
      "source": [
        "print(\"hello : \" + x) # one way of traditional string formation"
      ],
      "metadata": {
        "colab": {
          "base_uri": "https://localhost:8080/"
        },
        "id": "BBsGcwdHui1r",
        "outputId": "abb3d648-4728-439d-ab58-a501311f3e84"
      },
      "execution_count": 64,
      "outputs": [
        {
          "output_type": "stream",
          "name": "stdout",
          "text": [
            "hello : Hello World it is good\n"
          ]
        }
      ]
    },
    {
      "cell_type": "code",
      "source": [
        "# two methods for formatting objects into strings\n",
        "# .format()\n",
        "# f-strings(formatted string)\n",
        "\n",
        "# formatting with .format() method\n",
        "print(\"this is a string {}\".format(\"abc\")) #it will insert abc into the curly brackets"
      ],
      "metadata": {
        "colab": {
          "base_uri": "https://localhost:8080/"
        },
        "id": "U3lplfIKu0a6",
        "outputId": "753a07b7-e6dc-481c-9ed8-c7b1253941bf"
      },
      "execution_count": 70,
      "outputs": [
        {
          "output_type": "stream",
          "name": "stdout",
          "text": [
            "this is a string abc\n"
          ]
        }
      ]
    },
    {
      "cell_type": "code",
      "source": [
        "# we can also use indexing here and choose where to put the objects\n",
        "print(\"hello {2} {0} {1} \".format(\"fox\",\"brown\",\"quick\"))"
      ],
      "metadata": {
        "colab": {
          "base_uri": "https://localhost:8080/"
        },
        "id": "lic8kU2ev5fL",
        "outputId": "1bd94e45-acea-447c-e2d6-e6b5569a4d3e"
      },
      "execution_count": 71,
      "outputs": [
        {
          "output_type": "stream",
          "name": "stdout",
          "text": [
            "hello quick fox brown \n"
          ]
        }
      ]
    },
    {
      "cell_type": "code",
      "source": [
        "# we can also use variable names for indexing\n",
        "print(\"hello {q} {f} {b} \".format(f =\"fox\",b= \"brown\",q =\"quick\"))"
      ],
      "metadata": {
        "colab": {
          "base_uri": "https://localhost:8080/"
        },
        "id": "g72VI8aQwJNM",
        "outputId": "4f4da6e1-91cd-4f6a-c3be-2cbc10d16dcc"
      },
      "execution_count": 72,
      "outputs": [
        {
          "output_type": "stream",
          "name": "stdout",
          "text": [
            "hello quick fox brown \n"
          ]
        }
      ]
    },
    {
      "cell_type": "markdown",
      "source": [
        "**float formatting**"
      ],
      "metadata": {
        "id": "ZcEgsqy42IXn"
      }
    },
    {
      "cell_type": "code",
      "source": [
        "# float fromatting -> \"{value:width.precision f}\" \n",
        "result = 100/777\n",
        "print(\"this is value {r:1.3}\".format(r=result)) # 1 means width and 3 means precision upto how many decimal points"
      ],
      "metadata": {
        "colab": {
          "base_uri": "https://localhost:8080/"
        },
        "id": "fnfTCNv6wblK",
        "outputId": "d32283ac-12a0-4d60-9b8c-be1136b6d668"
      },
      "execution_count": 75,
      "outputs": [
        {
          "output_type": "stream",
          "name": "stdout",
          "text": [
            "this is value 0.129\n"
          ]
        }
      ]
    },
    {
      "cell_type": "code",
      "source": [
        "# string literal method fstring\n",
        "name = \"jose\"\n",
        "print(f\"hello, {name}\") "
      ],
      "metadata": {
        "colab": {
          "base_uri": "https://localhost:8080/"
        },
        "id": "k1D9P6gC26Np",
        "outputId": "5fa07975-1248-4ba2-ef4a-bd727f042c5b"
      },
      "execution_count": 76,
      "outputs": [
        {
          "output_type": "stream",
          "name": "stdout",
          "text": [
            "hello, jose\n"
          ]
        }
      ]
    },
    {
      "cell_type": "code",
      "source": [
        "name = \"sam\"\n",
        "age = 3\n",
        "print(f\"name is {name}, he is {age} years old\")"
      ],
      "metadata": {
        "colab": {
          "base_uri": "https://localhost:8080/"
        },
        "id": "6vXGc2eH3WrF",
        "outputId": "c234f716-f2a7-4ead-df81-613e0028281d"
      },
      "execution_count": 77,
      "outputs": [
        {
          "output_type": "stream",
          "name": "stdout",
          "text": [
            "name is sam, he is 3 years old\n"
          ]
        }
      ]
    }
  ]
}