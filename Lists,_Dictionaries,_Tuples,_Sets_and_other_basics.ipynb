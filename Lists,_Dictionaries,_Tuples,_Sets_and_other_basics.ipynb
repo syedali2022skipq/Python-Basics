{
  "nbformat": 4,
  "nbformat_minor": 0,
  "metadata": {
    "colab": {
      "provenance": [],
      "authorship_tag": "ABX9TyPtyIFOjsJKuAnYApnMF+Fy"
    },
    "kernelspec": {
      "name": "python3",
      "display_name": "Python 3"
    },
    "language_info": {
      "name": "python"
    }
  },
  "cells": [
    {
      "cell_type": "markdown",
      "source": [
        "**Lists, Dictionaries, Tuples, Sets and other basics**"
      ],
      "metadata": {
        "id": "dXEr2mRz4fV2"
      }
    },
    {
      "cell_type": "markdown",
      "source": [
        "lists are ordered sequences that can hold variety of objects\n",
        "it supports indexing and slicing and other useful methods"
      ],
      "metadata": {
        "id": "jeO6P1x85Y7N"
      }
    },
    {
      "cell_type": "code",
      "execution_count": 1,
      "metadata": {
        "colab": {
          "base_uri": "https://localhost:8080/"
        },
        "id": "8xuSVhy84Qxh",
        "outputId": "54c483b9-7f30-4fc3-8020-a67c7503360a"
      },
      "outputs": [
        {
          "output_type": "execute_result",
          "data": {
            "text/plain": [
              "[1, 'strong', 32.2]"
            ]
          },
          "metadata": {},
          "execution_count": 1
        }
      ],
      "source": [
        "#lists\n",
        "my_lists = [1,\"strong\",32.2]\n",
        "my_lists"
      ]
    },
    {
      "cell_type": "code",
      "source": [
        "len(my_lists) #checking the len of the list"
      ],
      "metadata": {
        "colab": {
          "base_uri": "https://localhost:8080/"
        },
        "id": "9pK5G3uT5cJ0",
        "outputId": "2d79e196-72d4-4688-b951-3b31cb2dd293"
      },
      "execution_count": 2,
      "outputs": [
        {
          "output_type": "execute_result",
          "data": {
            "text/plain": [
              "3"
            ]
          },
          "metadata": {},
          "execution_count": 2
        }
      ]
    },
    {
      "cell_type": "code",
      "source": [
        "#indexing\n",
        "my_lists[1]"
      ],
      "metadata": {
        "colab": {
          "base_uri": "https://localhost:8080/",
          "height": 35
        },
        "id": "pH02n3GY5jMu",
        "outputId": "042eacef-fe89-4b12-c7af-424ae09345a0"
      },
      "execution_count": 5,
      "outputs": [
        {
          "output_type": "execute_result",
          "data": {
            "text/plain": [
              "'strong'"
            ],
            "application/vnd.google.colaboratory.intrinsic+json": {
              "type": "string"
            }
          },
          "metadata": {},
          "execution_count": 5
        }
      ]
    },
    {
      "cell_type": "code",
      "source": [
        "#slicing\n",
        "my_lists = [\"one\",\"two\",\"three\",\"four\",\"five\"]\n",
        "my_lists[2:]"
      ],
      "metadata": {
        "colab": {
          "base_uri": "https://localhost:8080/"
        },
        "id": "R4c5zg-B54WG",
        "outputId": "d64e5bde-fa6c-4b38-da81-7327969a7a8a"
      },
      "execution_count": 8,
      "outputs": [
        {
          "output_type": "execute_result",
          "data": {
            "text/plain": [
              "['three', 'four', 'five']"
            ]
          },
          "metadata": {},
          "execution_count": 8
        }
      ]
    },
    {
      "cell_type": "code",
      "source": [
        "my_lists[::2] # step size"
      ],
      "metadata": {
        "colab": {
          "base_uri": "https://localhost:8080/"
        },
        "id": "M0Idj9XG6GNY",
        "outputId": "d2e5ea93-a512-4562-f917-91c64b501a3a"
      },
      "execution_count": 9,
      "outputs": [
        {
          "output_type": "execute_result",
          "data": {
            "text/plain": [
              "['one', 'three', 'five']"
            ]
          },
          "metadata": {},
          "execution_count": 9
        }
      ]
    },
    {
      "cell_type": "code",
      "source": [
        "# lists concetenating\n",
        "other_lists = [\"six\",\"seven\"]\n",
        "my_lists + other_lists"
      ],
      "metadata": {
        "colab": {
          "base_uri": "https://localhost:8080/"
        },
        "id": "6n42z73V6Ozq",
        "outputId": "dec9cf9c-5cc5-4623-982c-754a6c4f8b88"
      },
      "execution_count": 10,
      "outputs": [
        {
          "output_type": "execute_result",
          "data": {
            "text/plain": [
              "['one', 'two', 'three', 'four', 'five', 'six', 'seven']"
            ]
          },
          "metadata": {},
          "execution_count": 10
        }
      ]
    },
    {
      "cell_type": "code",
      "source": [
        "# Notice that we didn't saved the results of concatenated lists so can can actually get two lists individually\n",
        "my_lists"
      ],
      "metadata": {
        "colab": {
          "base_uri": "https://localhost:8080/"
        },
        "id": "s59hk_R36xDI",
        "outputId": "49c7007d-b6ee-4c6f-a032-aa71afb2ad14"
      },
      "execution_count": 11,
      "outputs": [
        {
          "output_type": "execute_result",
          "data": {
            "text/plain": [
              "['one', 'two', 'three', 'four', 'five']"
            ]
          },
          "metadata": {},
          "execution_count": 11
        }
      ]
    },
    {
      "cell_type": "code",
      "source": [
        "other_lists"
      ],
      "metadata": {
        "colab": {
          "base_uri": "https://localhost:8080/"
        },
        "id": "c_8wG-pq69Kf",
        "outputId": "f44a5446-4d72-4df3-bb87-5ed37f0b88b6"
      },
      "execution_count": 12,
      "outputs": [
        {
          "output_type": "execute_result",
          "data": {
            "text/plain": [
              "['six', 'seven']"
            ]
          },
          "metadata": {},
          "execution_count": 12
        }
      ]
    },
    {
      "cell_type": "code",
      "source": [
        "# lets save it to some variable\n",
        "newList = my_lists + other_lists\n",
        "newList"
      ],
      "metadata": {
        "colab": {
          "base_uri": "https://localhost:8080/"
        },
        "id": "sTJf_6IA6_R8",
        "outputId": "9371af30-21de-4fc2-a791-e296a8af39e7"
      },
      "execution_count": 14,
      "outputs": [
        {
          "output_type": "execute_result",
          "data": {
            "text/plain": [
              "['one', 'two', 'three', 'four', 'five', 'six', 'seven']"
            ]
          },
          "metadata": {},
          "execution_count": 14
        }
      ]
    },
    {
      "cell_type": "markdown",
      "source": [
        "string is immutable but in lists we can change the items in the lists\n"
      ],
      "metadata": {
        "id": "LOkZ0zbn7RJx"
      }
    },
    {
      "cell_type": "code",
      "source": [
        "newList[0] = \"changed\"\n",
        "newList"
      ],
      "metadata": {
        "colab": {
          "base_uri": "https://localhost:8080/"
        },
        "id": "ze427bKM7OV8",
        "outputId": "df247e89-d9d2-40d5-eed8-895c9387b6c3"
      },
      "execution_count": 15,
      "outputs": [
        {
          "output_type": "execute_result",
          "data": {
            "text/plain": [
              "['changed', 'two', 'three', 'four', 'five', 'six', 'seven']"
            ]
          },
          "metadata": {},
          "execution_count": 15
        }
      ]
    },
    {
      "cell_type": "code",
      "source": [
        "newList.append(\"hello\") # add item to the end of the lsit\n",
        "newList"
      ],
      "metadata": {
        "colab": {
          "base_uri": "https://localhost:8080/"
        },
        "id": "FBCg6jHi7f_U",
        "outputId": "77ee0355-f929-4e0e-b336-765ec7b6368e"
      },
      "execution_count": 16,
      "outputs": [
        {
          "output_type": "execute_result",
          "data": {
            "text/plain": [
              "['changed', 'two', 'three', 'four', 'five', 'six', 'seven', 'hello']"
            ]
          },
          "metadata": {},
          "execution_count": 16
        }
      ]
    },
    {
      "cell_type": "code",
      "source": [
        "newList.pop() # remove the item from the end\n",
        "newList"
      ],
      "metadata": {
        "colab": {
          "base_uri": "https://localhost:8080/"
        },
        "id": "vn16v5ZG7sld",
        "outputId": "ab565c0b-9afa-410f-ed12-ad515ef93a65"
      },
      "execution_count": 17,
      "outputs": [
        {
          "output_type": "execute_result",
          "data": {
            "text/plain": [
              "['changed', 'two', 'three', 'four', 'five', 'six', 'seven']"
            ]
          },
          "metadata": {},
          "execution_count": 17
        }
      ]
    },
    {
      "cell_type": "code",
      "source": [
        "newList.pop(0) # remove the item from the index position you mentioned\n",
        "newList"
      ],
      "metadata": {
        "colab": {
          "base_uri": "https://localhost:8080/"
        },
        "id": "qfOsMa6Y73nr",
        "outputId": "5c475c58-12d3-4efe-c6b5-a7d2dae707ee"
      },
      "execution_count": 21,
      "outputs": [
        {
          "output_type": "execute_result",
          "data": {
            "text/plain": [
              "['three', 'four', 'five', 'six', 'seven']"
            ]
          },
          "metadata": {},
          "execution_count": 21
        }
      ]
    },
    {
      "cell_type": "markdown",
      "source": [
        "**Sort and Reverse a List**"
      ],
      "metadata": {
        "id": "9AkS3f8m8Uhh"
      }
    },
    {
      "cell_type": "code",
      "source": [
        "new_list = [\"a\",\"e\",\"x\",\"b\",\"u\"]\n",
        "num_list = [1,5,3,6,8,]\n",
        "\n",
        "#sort\n",
        "num_list.sort()\n",
        "num_list"
      ],
      "metadata": {
        "colab": {
          "base_uri": "https://localhost:8080/"
        },
        "id": "2X-gDBZ78Y2H",
        "outputId": "8ebd0977-4af1-49db-8df3-f7014f2d24a9"
      },
      "execution_count": 23,
      "outputs": [
        {
          "output_type": "execute_result",
          "data": {
            "text/plain": [
              "[1, 3, 5, 6, 8]"
            ]
          },
          "metadata": {},
          "execution_count": 23
        }
      ]
    },
    {
      "cell_type": "code",
      "source": [
        "new_list.sort()\n",
        "new_list"
      ],
      "metadata": {
        "colab": {
          "base_uri": "https://localhost:8080/"
        },
        "id": "izsn0vE384hj",
        "outputId": "6a6595e8-3e06-4dc4-a899-917a8a12946a"
      },
      "execution_count": 24,
      "outputs": [
        {
          "output_type": "execute_result",
          "data": {
            "text/plain": [
              "['a', 'b', 'e', 'u', 'x']"
            ]
          },
          "metadata": {},
          "execution_count": 24
        }
      ]
    },
    {
      "cell_type": "code",
      "source": [
        "# now if you want to save the sorted list using sort method\n",
        "# it doesn't actually return anything\n",
        "sorted_list = new_list.sort()\n",
        "sorted_list # you get back nothing"
      ],
      "metadata": {
        "id": "vI3TpPAQ89sk"
      },
      "execution_count": 26,
      "outputs": []
    },
    {
      "cell_type": "code",
      "source": [
        "type(sorted_list)"
      ],
      "metadata": {
        "colab": {
          "base_uri": "https://localhost:8080/"
        },
        "id": "8cL9D10s942T",
        "outputId": "8f0eaab9-1f9e-41dc-ba82-f76de4265b55"
      },
      "execution_count": 27,
      "outputs": [
        {
          "output_type": "execute_result",
          "data": {
            "text/plain": [
              "NoneType"
            ]
          },
          "metadata": {},
          "execution_count": 27
        }
      ]
    },
    {
      "cell_type": "code",
      "source": [
        "# so if you want to save that we need to do this\n",
        "new_list.sort()\n",
        "my_sorted_list = new_list\n",
        "my_sorted_list"
      ],
      "metadata": {
        "colab": {
          "base_uri": "https://localhost:8080/"
        },
        "id": "A4UQX4pK9-Gd",
        "outputId": "c3b8667d-50b8-4477-ea7d-8ee10cff59ef"
      },
      "execution_count": 28,
      "outputs": [
        {
          "output_type": "execute_result",
          "data": {
            "text/plain": [
              "['a', 'b', 'e', 'u', 'x']"
            ]
          },
          "metadata": {},
          "execution_count": 28
        }
      ]
    },
    {
      "cell_type": "code",
      "source": [
        "# reverse the list\n",
        "num_list.reverse()\n",
        "num_list"
      ],
      "metadata": {
        "colab": {
          "base_uri": "https://localhost:8080/"
        },
        "id": "IhR16GtrSLV4",
        "outputId": "03c8e7bd-4437-4c15-93eb-f1ce0da0d841"
      },
      "execution_count": 31,
      "outputs": [
        {
          "output_type": "execute_result",
          "data": {
            "text/plain": [
              "[8, 6, 5, 3, 1]"
            ]
          },
          "metadata": {},
          "execution_count": 31
        }
      ]
    },
    {
      "cell_type": "markdown",
      "source": [
        "**Dictionary**"
      ],
      "metadata": {
        "id": "098LKF0BSbJ0"
      }
    },
    {
      "cell_type": "markdown",
      "source": [
        "Dictionaries are unordered mappings for storing objects and use a key value pairing."
      ],
      "metadata": {
        "id": "vkwcynGITuE8"
      }
    },
    {
      "cell_type": "code",
      "source": [
        "# we can retrieve the value by the key name\n",
        "my_dict = {\"key1\": \"value1\",\"key2\":\"value2\",\"key3\":\"value3\"}\n",
        "my_dict"
      ],
      "metadata": {
        "colab": {
          "base_uri": "https://localhost:8080/"
        },
        "id": "uUHZfZF-SdfA",
        "outputId": "eea32a38-b958-4d26-ec64-b83a7354f220"
      },
      "execution_count": 32,
      "outputs": [
        {
          "output_type": "execute_result",
          "data": {
            "text/plain": [
              "{'key1': 'value1', 'key2': 'value2', 'key3': 'value3'}"
            ]
          },
          "metadata": {},
          "execution_count": 32
        }
      ]
    },
    {
      "cell_type": "code",
      "source": [
        "my_dict[\"key3\"] # using key to reteirve the value"
      ],
      "metadata": {
        "colab": {
          "base_uri": "https://localhost:8080/",
          "height": 35
        },
        "id": "rjTFvZh0UfJp",
        "outputId": "95f494ef-1abb-4f6b-e74d-465d3f9d304b"
      },
      "execution_count": 34,
      "outputs": [
        {
          "output_type": "execute_result",
          "data": {
            "text/plain": [
              "'value3'"
            ],
            "application/vnd.google.colaboratory.intrinsic+json": {
              "type": "string"
            }
          },
          "metadata": {},
          "execution_count": 34
        }
      ]
    },
    {
      "cell_type": "code",
      "source": [
        "my_dict = {\"apple\": 1.2,\"mango\":2.99,\"orange\":1.99}\n",
        "my_dict[\"apple\"]"
      ],
      "metadata": {
        "colab": {
          "base_uri": "https://localhost:8080/"
        },
        "id": "Wr3dx9e-Umcm",
        "outputId": "2bc0e67c-543d-4329-ada4-6c619fc209f2"
      },
      "execution_count": 35,
      "outputs": [
        {
          "output_type": "execute_result",
          "data": {
            "text/plain": [
              "1.2"
            ]
          },
          "metadata": {},
          "execution_count": 35
        }
      ]
    },
    {
      "cell_type": "code",
      "source": [
        "# dictionaries can hold int, str, floats as well as lists and other dicts\n",
        "d = {\"k1\": 123,\"k2\":[0,1,2,3], \"k3\":{\"insideKey\":100}, \"k4\": \"c\"}\n",
        "d"
      ],
      "metadata": {
        "colab": {
          "base_uri": "https://localhost:8080/"
        },
        "id": "U6eVJtAXU-x2",
        "outputId": "c6ebbbd5-6ea7-4b29-958c-830663d370c8"
      },
      "execution_count": 39,
      "outputs": [
        {
          "output_type": "execute_result",
          "data": {
            "text/plain": [
              "{'k1': 123, 'k2': [0, 1, 2, 3], 'k3': {'insideKey': 100}, 'k4': 'c'}"
            ]
          },
          "metadata": {},
          "execution_count": 39
        }
      ]
    },
    {
      "cell_type": "code",
      "source": [
        "d[\"k2\"]"
      ],
      "metadata": {
        "colab": {
          "base_uri": "https://localhost:8080/"
        },
        "id": "1nOAThzYVSzr",
        "outputId": "ff8144dd-6cce-4a83-d555-2a0aae61e784"
      },
      "execution_count": 37,
      "outputs": [
        {
          "output_type": "execute_result",
          "data": {
            "text/plain": [
              "[0, 1, 2, 3]"
            ]
          },
          "metadata": {},
          "execution_count": 37
        }
      ]
    },
    {
      "cell_type": "code",
      "source": [
        "# let say we need 100 so we ccan do it as\n",
        "d[\"k3\"][\"insideKey\"]"
      ],
      "metadata": {
        "colab": {
          "base_uri": "https://localhost:8080/"
        },
        "id": "N0yL5p8PVajg",
        "outputId": "c080965b-ae33-4a3c-d742-d58484dce491"
      },
      "execution_count": 38,
      "outputs": [
        {
          "output_type": "execute_result",
          "data": {
            "text/plain": [
              "100"
            ]
          },
          "metadata": {},
          "execution_count": 38
        }
      ]
    },
    {
      "cell_type": "code",
      "source": [
        "d[\"k4\"].upper()"
      ],
      "metadata": {
        "colab": {
          "base_uri": "https://localhost:8080/",
          "height": 35
        },
        "id": "bbO_8TfMV5Yl",
        "outputId": "c70efe20-e4a1-4a2c-9e33-3d3fb35c8849"
      },
      "execution_count": 40,
      "outputs": [
        {
          "output_type": "execute_result",
          "data": {
            "text/plain": [
              "'C'"
            ],
            "application/vnd.google.colaboratory.intrinsic+json": {
              "type": "string"
            }
          },
          "metadata": {},
          "execution_count": 40
        }
      ]
    },
    {
      "cell_type": "code",
      "source": [
        "d[\"k1\"] = \"new Value\" # we can also can values here\n",
        "d"
      ],
      "metadata": {
        "colab": {
          "base_uri": "https://localhost:8080/"
        },
        "id": "8HUCD2WwWD5B",
        "outputId": "5a3dfc47-4621-4f79-a581-5666c7ddef37"
      },
      "execution_count": 41,
      "outputs": [
        {
          "output_type": "execute_result",
          "data": {
            "text/plain": [
              "{'k1': 'new Value', 'k2': [0, 1, 2, 3], 'k3': {'insideKey': 100}, 'k4': 'c'}"
            ]
          },
          "metadata": {},
          "execution_count": 41
        }
      ]
    },
    {
      "cell_type": "code",
      "source": [
        "d.values() # returns the values"
      ],
      "metadata": {
        "colab": {
          "base_uri": "https://localhost:8080/"
        },
        "id": "oxXRKpoUWRgZ",
        "outputId": "faafe1d9-4929-48f7-a45c-db6ca8bc4ebb"
      },
      "execution_count": 42,
      "outputs": [
        {
          "output_type": "execute_result",
          "data": {
            "text/plain": [
              "dict_values(['new Value', [0, 1, 2, 3], {'insideKey': 100}, 'c'])"
            ]
          },
          "metadata": {},
          "execution_count": 42
        }
      ]
    },
    {
      "cell_type": "code",
      "source": [
        "d.keys() # return the keys"
      ],
      "metadata": {
        "colab": {
          "base_uri": "https://localhost:8080/"
        },
        "id": "39DQcXgsWYj2",
        "outputId": "a18fcb9f-d296-4c45-99e4-cd7a5206853b"
      },
      "execution_count": 43,
      "outputs": [
        {
          "output_type": "execute_result",
          "data": {
            "text/plain": [
              "dict_keys(['k1', 'k2', 'k3', 'k4'])"
            ]
          },
          "metadata": {},
          "execution_count": 43
        }
      ]
    },
    {
      "cell_type": "code",
      "source": [
        "d.items() # get the pairs together"
      ],
      "metadata": {
        "colab": {
          "base_uri": "https://localhost:8080/"
        },
        "id": "GR0bKTX0WdjY",
        "outputId": "4a3045bc-8859-4c39-ba6e-956e8068e932"
      },
      "execution_count": 44,
      "outputs": [
        {
          "output_type": "execute_result",
          "data": {
            "text/plain": [
              "dict_items([('k1', 'new Value'), ('k2', [0, 1, 2, 3]), ('k3', {'insideKey': 100}), ('k4', 'c')])"
            ]
          },
          "metadata": {},
          "execution_count": 44
        }
      ]
    },
    {
      "cell_type": "markdown",
      "source": [
        "**Tuples**"
      ],
      "metadata": {
        "id": "NSsg29ydWvUc"
      }
    },
    {
      "cell_type": "markdown",
      "source": [
        "Tuples are very similar to lists but they are immutable means we can not chnage the values"
      ],
      "metadata": {
        "id": "ap5XpXqZWy0v"
      }
    },
    {
      "cell_type": "code",
      "source": [
        "t = (1,\"two\",3) # use () for tuples\n",
        "type(t)"
      ],
      "metadata": {
        "colab": {
          "base_uri": "https://localhost:8080/"
        },
        "id": "HMHPVt6sWxia",
        "outputId": "0d49a012-538c-4805-c28b-58dd52329669"
      },
      "execution_count": 47,
      "outputs": [
        {
          "output_type": "execute_result",
          "data": {
            "text/plain": [
              "tuple"
            ]
          },
          "metadata": {},
          "execution_count": 47
        }
      ]
    },
    {
      "cell_type": "code",
      "source": [
        "t"
      ],
      "metadata": {
        "colab": {
          "base_uri": "https://localhost:8080/"
        },
        "id": "tCsmUEleXLCv",
        "outputId": "f9567b71-e4f3-4ad5-f092-3b0b9414cbe0"
      },
      "execution_count": 48,
      "outputs": [
        {
          "output_type": "execute_result",
          "data": {
            "text/plain": [
              "(1, 'two', 3)"
            ]
          },
          "metadata": {},
          "execution_count": 48
        }
      ]
    },
    {
      "cell_type": "code",
      "source": [
        "# just like lists we can use slicing and indexed because tuples are more like lists but only diff is that we can't reassign the values onnce tuple is created\n",
        "# we can use methods of list for tuples also\n",
        "# so lets see the basic methods for tuples\n",
        "# index and counting\n",
        "\n",
        "t = (\"a\",\"a\",\"b\")\n",
        "t.count(\"a\") # returns how many times a appears in tuple"
      ],
      "metadata": {
        "colab": {
          "base_uri": "https://localhost:8080/"
        },
        "id": "FngVE60dXWQ8",
        "outputId": "16111477-9639-46cb-ec09-15c66809340a"
      },
      "execution_count": 49,
      "outputs": [
        {
          "output_type": "execute_result",
          "data": {
            "text/plain": [
              "2"
            ]
          },
          "metadata": {},
          "execution_count": 49
        }
      ]
    },
    {
      "cell_type": "code",
      "source": [
        "t = (1,2,3,4,5,6,6,7,8,8)\n",
        "t.index(6) # return the first find index in which the value 6 is"
      ],
      "metadata": {
        "colab": {
          "base_uri": "https://localhost:8080/"
        },
        "id": "qr0gQhTiX7h8",
        "outputId": "ea929ab3-e647-49d8-c725-f5f7aaa35c3b"
      },
      "execution_count": 51,
      "outputs": [
        {
          "output_type": "execute_result",
          "data": {
            "text/plain": [
              "5"
            ]
          },
          "metadata": {},
          "execution_count": 51
        }
      ]
    },
    {
      "cell_type": "code",
      "source": [],
      "metadata": {
        "id": "56EbJwhuYLt_"
      },
      "execution_count": null,
      "outputs": []
    },
    {
      "cell_type": "markdown",
      "source": [
        "**Sets**"
      ],
      "metadata": {
        "id": "7h2OWBZ0YUux"
      }
    },
    {
      "cell_type": "markdown",
      "source": [
        "Sets are unordered collection of unique elements"
      ],
      "metadata": {
        "id": "X2gEGjVXYecU"
      }
    },
    {
      "cell_type": "code",
      "source": [
        "myset = set()\n",
        "myset"
      ],
      "metadata": {
        "colab": {
          "base_uri": "https://localhost:8080/"
        },
        "id": "pvLfEGaxYXKH",
        "outputId": "77b17e93-138c-438a-f1a9-041e52185ee4"
      },
      "execution_count": 52,
      "outputs": [
        {
          "output_type": "execute_result",
          "data": {
            "text/plain": [
              "set()"
            ]
          },
          "metadata": {},
          "execution_count": 52
        }
      ]
    },
    {
      "cell_type": "code",
      "source": [
        "# lets add elements to the set\n",
        "myset.add(1)\n",
        "myset # notice it looks like dict here because of {} but its not as there no key value pair"
      ],
      "metadata": {
        "colab": {
          "base_uri": "https://localhost:8080/"
        },
        "id": "PjnYcfUxYpug",
        "outputId": "870becd5-889d-4046-e3d9-16ea7d2dee1e"
      },
      "execution_count": 53,
      "outputs": [
        {
          "output_type": "execute_result",
          "data": {
            "text/plain": [
              "{1}"
            ]
          },
          "metadata": {},
          "execution_count": 53
        }
      ]
    },
    {
      "cell_type": "code",
      "source": [
        "myset.add(2)\n",
        "myset"
      ],
      "metadata": {
        "colab": {
          "base_uri": "https://localhost:8080/"
        },
        "id": "VfUev2VSY6Ls",
        "outputId": "4de92fad-e7ae-46bb-ba61-99b0df081777"
      },
      "execution_count": 54,
      "outputs": [
        {
          "output_type": "execute_result",
          "data": {
            "text/plain": [
              "{1, 2}"
            ]
          },
          "metadata": {},
          "execution_count": 54
        }
      ]
    },
    {
      "cell_type": "code",
      "source": [
        "myset.add(2)\n",
        "myset # it only accepts unique values that's why it doesn;t store 2 again in the set"
      ],
      "metadata": {
        "colab": {
          "base_uri": "https://localhost:8080/"
        },
        "id": "ReRbNp86ZBGy",
        "outputId": "6a01e2b2-4c63-42f5-ff2e-0d10cb34c3bd"
      },
      "execution_count": 56,
      "outputs": [
        {
          "output_type": "execute_result",
          "data": {
            "text/plain": [
              "{1, 2}"
            ]
          },
          "metadata": {},
          "execution_count": 56
        }
      ]
    },
    {
      "cell_type": "code",
      "source": [
        "# more efficeint method for add elements to the set is by list for when you wnat only unique values\n",
        "myList = [1,1,1,1,3,3,4,4,5,6,7,7]\n",
        "set(myList)"
      ],
      "metadata": {
        "colab": {
          "base_uri": "https://localhost:8080/"
        },
        "id": "t0uNLkK8ZKkx",
        "outputId": "8fe9034e-76e1-4590-8bc1-b3b7cd390945"
      },
      "execution_count": 57,
      "outputs": [
        {
          "output_type": "execute_result",
          "data": {
            "text/plain": [
              "{1, 3, 4, 5, 6, 7}"
            ]
          },
          "metadata": {},
          "execution_count": 57
        }
      ]
    }
  ]
}