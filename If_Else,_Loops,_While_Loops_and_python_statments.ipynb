{
  "nbformat": 4,
  "nbformat_minor": 0,
  "metadata": {
    "colab": {
      "provenance": [],
      "collapsed_sections": [],
      "authorship_tag": "ABX9TyNIggSBGufY+IvPQ54ZWoRg"
    },
    "kernelspec": {
      "name": "python3",
      "display_name": "Python 3"
    },
    "language_info": {
      "name": "python"
    }
  },
  "cells": [
    {
      "cell_type": "markdown",
      "source": [
        "**If Else, Loops, While Loops and python statments**"
      ],
      "metadata": {
        "id": "drcBTPHgBscP"
      }
    },
    {
      "cell_type": "code",
      "execution_count": 2,
      "metadata": {
        "colab": {
          "base_uri": "https://localhost:8080/"
        },
        "id": "b8uTScrNBaft",
        "outputId": "386ee2de-160e-425a-d377-1dbf820205b6"
      },
      "outputs": [
        {
          "output_type": "stream",
          "name": "stdout",
          "text": [
            "its false\n"
          ]
        }
      ],
      "source": [
        "# syntax ->   if some_condition:\n",
        "#                execute code\n",
        "#             elif:\n",
        "#                do smth else\n",
        "#             else:\n",
        "#                do smth else\n",
        "\n",
        "if 2>3:\n",
        "  print(\"its true\")\n",
        "else:\n",
        "  print(\"its false\")  "
      ]
    },
    {
      "cell_type": "code",
      "source": [
        "loc = \"bank\"\n",
        "\n",
        "if loc == \"Auto Shop\":\n",
        "  print(\"cars\")\n",
        "elif loc == \"bank\":\n",
        "  print(\"money\")\n",
        "else:\n",
        "  print(\"easy\")    "
      ],
      "metadata": {
        "colab": {
          "base_uri": "https://localhost:8080/"
        },
        "id": "QcLZxgw2DOis",
        "outputId": "de535544-e547-4000-8bc4-4bce536b6ce6"
      },
      "execution_count": 5,
      "outputs": [
        {
          "output_type": "stream",
          "name": "stdout",
          "text": [
            "money\n"
          ]
        }
      ]
    },
    {
      "cell_type": "markdown",
      "source": [
        "**For Loop**"
      ],
      "metadata": {
        "id": "V7PGfAdsCSnz"
      }
    },
    {
      "cell_type": "code",
      "source": [
        "# syntax ->   \n",
        "#             my_loop = [1,2,3]\n",
        "#             for items in my_loop:\n",
        "#                 print(items)\n",
        "\n",
        "myList = [1,2,3,4,5]\n",
        "\n",
        "for num in myList:\n",
        "  print(num)"
      ],
      "metadata": {
        "colab": {
          "base_uri": "https://localhost:8080/"
        },
        "id": "fP1fnB0MDt5Q",
        "outputId": "4ec09306-5061-4f0e-b4e8-7f2e23766ca1"
      },
      "execution_count": 7,
      "outputs": [
        {
          "output_type": "stream",
          "name": "stdout",
          "text": [
            "1\n",
            "2\n",
            "3\n",
            "4\n",
            "5\n"
          ]
        }
      ]
    },
    {
      "cell_type": "code",
      "source": [
        "for num in myList:\n",
        "  # Check for even\n",
        "  if num % 2 == 0:\n",
        "    print(num)\n",
        "  else:\n",
        "    print(f\"odd num {num}\")  "
      ],
      "metadata": {
        "colab": {
          "base_uri": "https://localhost:8080/"
        },
        "id": "LFxZ0Yx-Ep7O",
        "outputId": "f55df699-7559-4e3b-cbee-cc0defdff640"
      },
      "execution_count": 10,
      "outputs": [
        {
          "output_type": "stream",
          "name": "stdout",
          "text": [
            "odd num 1\n",
            "2\n",
            "odd num 3\n",
            "4\n",
            "odd num 5\n"
          ]
        }
      ]
    },
    {
      "cell_type": "code",
      "source": [
        "list_sum = 0\n",
        "\n",
        "for num in myList:\n",
        "  list_sum = list_sum + num\n",
        "\n",
        "print(list_sum) # notice that print is not in the scope of loop here  "
      ],
      "metadata": {
        "colab": {
          "base_uri": "https://localhost:8080/"
        },
        "id": "WRP55PfmFE2K",
        "outputId": "c26760c0-ea98-44aa-9998-adae8bd6c0d3"
      },
      "execution_count": 12,
      "outputs": [
        {
          "output_type": "stream",
          "name": "stdout",
          "text": [
            "15\n"
          ]
        }
      ]
    },
    {
      "cell_type": "code",
      "source": [
        "my_str = \"Hello World\"\n",
        "\n",
        "for letter in my_str:\n",
        "  print(letter.upper())"
      ],
      "metadata": {
        "colab": {
          "base_uri": "https://localhost:8080/"
        },
        "id": "_zVN2NecFZDM",
        "outputId": "06b2fb1a-31c3-4e4c-c4a1-f9ef3eb4258a"
      },
      "execution_count": 14,
      "outputs": [
        {
          "output_type": "stream",
          "name": "stdout",
          "text": [
            "H\n",
            "E\n",
            "L\n",
            "L\n",
            "O\n",
            " \n",
            "W\n",
            "O\n",
            "R\n",
            "L\n",
            "D\n"
          ]
        }
      ]
    },
    {
      "cell_type": "code",
      "source": [
        "# list with tuple items in it\n",
        "mytup = ((1,2),(3,4),(5,6))\n",
        "myList = list(mytup)\n",
        "\n",
        "\n",
        "len(myList)"
      ],
      "metadata": {
        "colab": {
          "base_uri": "https://localhost:8080/"
        },
        "id": "LFzxYgXwFwwe",
        "outputId": "4e892ba5-b75d-4bbc-b1bb-b6083a476590"
      },
      "execution_count": 23,
      "outputs": [
        {
          "output_type": "execute_result",
          "data": {
            "text/plain": [
              "3"
            ]
          },
          "metadata": {},
          "execution_count": 23
        }
      ]
    },
    {
      "cell_type": "code",
      "source": [
        "for (a,b) in myList: #tupe unpacking or destructuring\n",
        "  print(b)"
      ],
      "metadata": {
        "colab": {
          "base_uri": "https://localhost:8080/"
        },
        "id": "un7cnQ_HImgc",
        "outputId": "2cc7c2f3-ee2e-423a-f4ef-dae2217187ed"
      },
      "execution_count": 34,
      "outputs": [
        {
          "output_type": "stream",
          "name": "stdout",
          "text": [
            "2\n",
            "4\n",
            "6\n"
          ]
        }
      ]
    },
    {
      "cell_type": "code",
      "source": [
        "for (a,b) in myList: #tupe unpacking or destructuring\n",
        "  print(a)"
      ],
      "metadata": {
        "colab": {
          "base_uri": "https://localhost:8080/"
        },
        "id": "1sXcARDuJTlp",
        "outputId": "c9a8632e-934c-4eab-c940-1eff40fb187d"
      },
      "execution_count": 35,
      "outputs": [
        {
          "output_type": "stream",
          "name": "stdout",
          "text": [
            "1\n",
            "3\n",
            "5\n"
          ]
        }
      ]
    },
    {
      "cell_type": "code",
      "source": [
        "# iterate thru dicts\n",
        "\n",
        "d = {\"k1\":1,\"k2\":3, \"k3\": 5}\n",
        "\n",
        "for item in d: # it will iterate thru keys by default\n",
        "  print(item)"
      ],
      "metadata": {
        "colab": {
          "base_uri": "https://localhost:8080/"
        },
        "id": "kOo3gOqeKDVf",
        "outputId": "aeb09121-9536-479b-e529-029c934f02dc"
      },
      "execution_count": 36,
      "outputs": [
        {
          "output_type": "stream",
          "name": "stdout",
          "text": [
            "k1\n",
            "k2\n",
            "k3\n"
          ]
        }
      ]
    },
    {
      "cell_type": "code",
      "source": [
        "for item in d.values(): # it will iterate thru keys\n",
        "  print(item)"
      ],
      "metadata": {
        "colab": {
          "base_uri": "https://localhost:8080/"
        },
        "id": "Al-t9E9_KTzQ",
        "outputId": "c062758f-e127-4564-efb4-e7067ad83d47"
      },
      "execution_count": 38,
      "outputs": [
        {
          "output_type": "stream",
          "name": "stdout",
          "text": [
            "1\n",
            "3\n",
            "5\n"
          ]
        }
      ]
    },
    {
      "cell_type": "code",
      "source": [
        "for item in d.items(): # it will iterate thru keys\n",
        "  print(item)"
      ],
      "metadata": {
        "colab": {
          "base_uri": "https://localhost:8080/"
        },
        "id": "47KsyIKiKZeI",
        "outputId": "dc520f54-dd9b-44dd-a4e4-e1b1550f4075"
      },
      "execution_count": 39,
      "outputs": [
        {
          "output_type": "stream",
          "name": "stdout",
          "text": [
            "('k1', 1)\n",
            "('k2', 3)\n",
            "('k3', 5)\n"
          ]
        }
      ]
    },
    {
      "cell_type": "markdown",
      "source": [
        "**While Loop**"
      ],
      "metadata": {
        "id": "zL4jt65oDwlM"
      }
    },
    {
      "cell_type": "code",
      "source": [
        "# continue to execute the block of code while some condition is true\n",
        "#syntax ->  \n",
        "#     while my_condition:\n",
        "#        #do smth\n",
        "#     else:                         # we can also use else here if condition is not longer true\n",
        "#         # do smth else\n",
        "\n",
        "x = 0\n",
        "\n",
        "while x < 5:\n",
        "  print(f\"the current value of x : {x}\")\n",
        "  x = x + 1\n",
        "else:\n",
        "  print(\"not less than 5\")  "
      ],
      "metadata": {
        "colab": {
          "base_uri": "https://localhost:8080/"
        },
        "id": "d8OsaOA0Kktu",
        "outputId": "a8e833db-7e29-4880-d18c-b3dc37da4571"
      },
      "execution_count": 43,
      "outputs": [
        {
          "output_type": "stream",
          "name": "stdout",
          "text": [
            "the current value of x : 0\n",
            "the current value of x : 1\n",
            "the current value of x : 2\n",
            "the current value of x : 3\n",
            "the current value of x : 4\n",
            "not less than 5\n"
          ]
        }
      ]
    },
    {
      "cell_type": "markdown",
      "source": [
        "**Break, Continue, Pass**"
      ],
      "metadata": {
        "id": "xGDQ3AaRLvhE"
      }
    },
    {
      "cell_type": "markdown",
      "source": [
        "Break: breaks thru the loop current enclosing loop\n",
        "continue: Goes to top of the closest enclosing loop\n",
        "pass: Does nothing"
      ],
      "metadata": {
        "id": "fo-CqfTkL1-s"
      }
    },
    {
      "cell_type": "code",
      "source": [
        "x = [1,2,3]\n",
        "\n",
        "for item in x:\n",
        "  pass # it does nothing and end the loop and run other code\n",
        "\n",
        "print(\"hello\")"
      ],
      "metadata": {
        "colab": {
          "base_uri": "https://localhost:8080/"
        },
        "id": "xkS9ycDcLbQg",
        "outputId": "db6b41c8-794e-4ff5-cc84-4ae48ece6766"
      },
      "execution_count": 45,
      "outputs": [
        {
          "output_type": "stream",
          "name": "stdout",
          "text": [
            "hello\n"
          ]
        }
      ]
    },
    {
      "cell_type": "code",
      "source": [
        "myStr = \"Irtaza\"\n",
        "\n",
        "for letter in myStr:\n",
        "  if letter == \"a\":  # if the letter in str is a go ahead and continue from the top again\n",
        "    continue\n",
        "  print(letter)  "
      ],
      "metadata": {
        "colab": {
          "base_uri": "https://localhost:8080/"
        },
        "id": "VCyjwn4NMxK0",
        "outputId": "ee777acc-c2c6-4aa6-9d6b-2f428a3cb649"
      },
      "execution_count": 46,
      "outputs": [
        {
          "output_type": "stream",
          "name": "stdout",
          "text": [
            "I\n",
            "r\n",
            "t\n",
            "z\n"
          ]
        }
      ]
    },
    {
      "cell_type": "code",
      "source": [
        "x = 0\n",
        "\n",
        "while x < 5:\n",
        "  if x == 3:\n",
        "    break\n",
        "  print(x)\n",
        "  x += 1"
      ],
      "metadata": {
        "colab": {
          "base_uri": "https://localhost:8080/"
        },
        "id": "NPEFlUIiNLWM",
        "outputId": "251be628-32c6-4c25-8c65-a2ad162d86ec"
      },
      "execution_count": 49,
      "outputs": [
        {
          "output_type": "stream",
          "name": "stdout",
          "text": [
            "0\n",
            "1\n",
            "2\n"
          ]
        }
      ]
    },
    {
      "cell_type": "markdown",
      "source": [
        "**Useful Operators in Python**"
      ],
      "metadata": {
        "id": "2R5HuGX4NdEx"
      }
    },
    {
      "cell_type": "markdown",
      "source": [
        "**range()**"
      ],
      "metadata": {
        "id": "VkKfjeeVP9Ap"
      }
    },
    {
      "cell_type": "code",
      "source": [
        "# range() ->  loop through a set of code a specified number of times\n",
        "myList = [1,2,3,4,5]\n",
        "\n",
        "for num in range(4): \n",
        "  # it takes few pramas start, stop, step\n",
        "  # if we indicate the single num it will generate num upto but not including 4\n",
        "  print(num)"
      ],
      "metadata": {
        "colab": {
          "base_uri": "https://localhost:8080/"
        },
        "id": "XHqG73loNgtY",
        "outputId": "378e71e0-213a-4053-c35b-a95820368b26"
      },
      "execution_count": 51,
      "outputs": [
        {
          "output_type": "stream",
          "name": "stdout",
          "text": [
            "0\n",
            "1\n",
            "2\n",
            "3\n"
          ]
        }
      ]
    },
    {
      "cell_type": "code",
      "source": [
        "for num in range(2,5):\n",
        "  # if we indicate start and stop\n",
        "  # it will start from 2 and generate num upto but not including 5\n",
        "  print(num)"
      ],
      "metadata": {
        "colab": {
          "base_uri": "https://localhost:8080/"
        },
        "id": "0UR9ElPROhf-",
        "outputId": "80acf425-b898-4a1c-fea8-70aa77928bee"
      },
      "execution_count": 53,
      "outputs": [
        {
          "output_type": "stream",
          "name": "stdout",
          "text": [
            "2\n",
            "3\n",
            "4\n"
          ]
        }
      ]
    },
    {
      "cell_type": "code",
      "source": [
        "for num in range(0,5,2):\n",
        "  # third argument is step size\n",
        "  print(num)"
      ],
      "metadata": {
        "colab": {
          "base_uri": "https://localhost:8080/"
        },
        "id": "ItwnH_sLO28o",
        "outputId": "937018dc-2ffd-4bda-dbd2-c635e9051c0c"
      },
      "execution_count": 55,
      "outputs": [
        {
          "output_type": "stream",
          "name": "stdout",
          "text": [
            "0\n",
            "2\n",
            "4\n"
          ]
        }
      ]
    },
    {
      "cell_type": "code",
      "source": [
        "list(range(0,11,2))"
      ],
      "metadata": {
        "colab": {
          "base_uri": "https://localhost:8080/"
        },
        "id": "9aqEaAKCPChg",
        "outputId": "18e5ae75-0a27-460a-b284-c3a73e39ae22"
      },
      "execution_count": 56,
      "outputs": [
        {
          "output_type": "execute_result",
          "data": {
            "text/plain": [
              "[0, 2, 4, 6, 8, 10]"
            ]
          },
          "metadata": {},
          "execution_count": 56
        }
      ]
    },
    {
      "cell_type": "markdown",
      "source": [
        "**enumerate()**"
      ],
      "metadata": {
        "id": "bL1NQ22XQAer"
      }
    },
    {
      "cell_type": "code",
      "source": [
        "word = \"abcde\"\n",
        "\n",
        "for item in enumerate(word): # it is index counting for us in the form of tuples\n",
        "  print(item)"
      ],
      "metadata": {
        "colab": {
          "base_uri": "https://localhost:8080/"
        },
        "id": "1H3eYEanPKeP",
        "outputId": "327f4034-94dc-400c-c666-cac0c6233937"
      },
      "execution_count": 57,
      "outputs": [
        {
          "output_type": "stream",
          "name": "stdout",
          "text": [
            "(0, 'a')\n",
            "(1, 'b')\n",
            "(2, 'c')\n",
            "(3, 'd')\n",
            "(4, 'e')\n"
          ]
        }
      ]
    },
    {
      "cell_type": "code",
      "source": [
        "for index,letter in enumerate(word): # unpacking / destructuring\n",
        "  print(letter)"
      ],
      "metadata": {
        "colab": {
          "base_uri": "https://localhost:8080/"
        },
        "id": "1tsRberwPyDq",
        "outputId": "719785b3-89cc-4bc4-a2f1-7e6fdac1aa63"
      },
      "execution_count": 58,
      "outputs": [
        {
          "output_type": "stream",
          "name": "stdout",
          "text": [
            "a\n",
            "b\n",
            "c\n",
            "d\n",
            "e\n"
          ]
        }
      ]
    },
    {
      "cell_type": "markdown",
      "source": [
        "**zip()**"
      ],
      "metadata": {
        "id": "zJLpveW5QLhj"
      }
    },
    {
      "cell_type": "code",
      "source": [
        "# tuple unpacking and destructuring is really usefull because alot of functions returns tuples\n",
        "list1 = [1,2,3]\n",
        "list2 = [\"a\",\"b\",\"c\"]\n",
        "\n",
        "zip(list1,list2) # it will create a zip on particular memory loc"
      ],
      "metadata": {
        "colab": {
          "base_uri": "https://localhost:8080/"
        },
        "id": "uT0F010MQOPi",
        "outputId": "94f016ab-4ce7-4f7f-c1e0-a36b8bd031a6"
      },
      "execution_count": 59,
      "outputs": [
        {
          "output_type": "execute_result",
          "data": {
            "text/plain": [
              "<zip at 0x7f66836dcdc0>"
            ]
          },
          "metadata": {},
          "execution_count": 59
        }
      ]
    },
    {
      "cell_type": "code",
      "source": [
        "for item in zip(list1,list2):\n",
        "  print(item) # returns tuples, useful when you have two array and want to zip them side by side"
      ],
      "metadata": {
        "colab": {
          "base_uri": "https://localhost:8080/"
        },
        "id": "KMWu7HQvQt-6",
        "outputId": "6b19897b-fd98-4a87-cfb8-dcfe3d591c36"
      },
      "execution_count": 60,
      "outputs": [
        {
          "output_type": "stream",
          "name": "stdout",
          "text": [
            "(1, 'a')\n",
            "(2, 'b')\n",
            "(3, 'c')\n"
          ]
        }
      ]
    },
    {
      "cell_type": "code",
      "source": [
        "for index,item in zip(list1,list2): # tupple unpacking\n",
        "  print(item)"
      ],
      "metadata": {
        "colab": {
          "base_uri": "https://localhost:8080/"
        },
        "id": "N4rNJJgaRDsd",
        "outputId": "9cb76142-6bf3-4749-ab8d-ce2388edade1"
      },
      "execution_count": 62,
      "outputs": [
        {
          "output_type": "stream",
          "name": "stdout",
          "text": [
            "a\n",
            "b\n",
            "c\n"
          ]
        }
      ]
    },
    {
      "cell_type": "code",
      "source": [
        "list(zip(list1,list2))"
      ],
      "metadata": {
        "colab": {
          "base_uri": "https://localhost:8080/"
        },
        "id": "F61Y2hRHRWwM",
        "outputId": "09c1f96b-5cb8-4681-a8ae-97238a0c7cea"
      },
      "execution_count": 63,
      "outputs": [
        {
          "output_type": "execute_result",
          "data": {
            "text/plain": [
              "[(1, 'a'), (2, 'b'), (3, 'c')]"
            ]
          },
          "metadata": {},
          "execution_count": 63
        }
      ]
    },
    {
      "cell_type": "markdown",
      "source": [
        "**in**"
      ],
      "metadata": {
        "id": "F0et_D_rRa14"
      }
    },
    {
      "cell_type": "code",
      "source": [
        "\"x\" in [1,2,3]"
      ],
      "metadata": {
        "colab": {
          "base_uri": "https://localhost:8080/"
        },
        "id": "bBeg3acMRhr6",
        "outputId": "9b98ec13-fe12-44dd-b88c-8b01e07b441f"
      },
      "execution_count": 64,
      "outputs": [
        {
          "output_type": "execute_result",
          "data": {
            "text/plain": [
              "False"
            ]
          },
          "metadata": {},
          "execution_count": 64
        }
      ]
    },
    {
      "cell_type": "code",
      "source": [
        "# in usually works in different data types\n",
        "\"key1\" in {\"key1\": 1234}"
      ],
      "metadata": {
        "colab": {
          "base_uri": "https://localhost:8080/"
        },
        "id": "Nmd8MkliRlCw",
        "outputId": "a3c08dc5-649e-4db5-aa22-d626fc1fb681"
      },
      "execution_count": 65,
      "outputs": [
        {
          "output_type": "execute_result",
          "data": {
            "text/plain": [
              "True"
            ]
          },
          "metadata": {},
          "execution_count": 65
        }
      ]
    },
    {
      "cell_type": "code",
      "source": [
        "d = {\"key1\": 1234}\n",
        "1234 in d.values()"
      ],
      "metadata": {
        "colab": {
          "base_uri": "https://localhost:8080/"
        },
        "id": "8tT2HFd-RzIB",
        "outputId": "de7def81-f261-4fc4-a1a0-0c9b0a79b723"
      },
      "execution_count": 67,
      "outputs": [
        {
          "output_type": "execute_result",
          "data": {
            "text/plain": [
              "True"
            ]
          },
          "metadata": {},
          "execution_count": 67
        }
      ]
    },
    {
      "cell_type": "markdown",
      "source": [
        "**Input functions from built in library**"
      ],
      "metadata": {
        "id": "_9qxg_nwSHa0"
      }
    },
    {
      "cell_type": "code",
      "source": [
        "from random import shuffle"
      ],
      "metadata": {
        "id": "S6JlvIO8R_lV"
      },
      "execution_count": 68,
      "outputs": []
    },
    {
      "cell_type": "code",
      "source": [
        "# now we can use random to suffle any sort of list\n",
        "myList = [1,2,3,4,5,6,7]\n",
        "shuffle(myList)\n",
        "myList"
      ],
      "metadata": {
        "colab": {
          "base_uri": "https://localhost:8080/"
        },
        "id": "S4MPAJN8Sij0",
        "outputId": "369f4827-0d89-435c-922e-8a052786b698"
      },
      "execution_count": 69,
      "outputs": [
        {
          "output_type": "execute_result",
          "data": {
            "text/plain": [
              "[6, 4, 7, 1, 2, 3, 5]"
            ]
          },
          "metadata": {},
          "execution_count": 69
        }
      ]
    },
    {
      "cell_type": "code",
      "source": [
        "# grabbing a random in\n",
        "from random import randint"
      ],
      "metadata": {
        "id": "rpSr1qVnSwhq"
      },
      "execution_count": 76,
      "outputs": []
    },
    {
      "cell_type": "code",
      "source": [
        "randint(0,99) # returns the random num"
      ],
      "metadata": {
        "colab": {
          "base_uri": "https://localhost:8080/"
        },
        "id": "rD_6CsD_TOhu",
        "outputId": "c624a949-30ee-4bf5-c248-642057ca7e47"
      },
      "execution_count": 77,
      "outputs": [
        {
          "output_type": "execute_result",
          "data": {
            "text/plain": [
              "48"
            ]
          },
          "metadata": {},
          "execution_count": 77
        }
      ]
    },
    {
      "cell_type": "code",
      "source": [
        "result = input(\"enter the input \") # to take input\n",
        "result"
      ],
      "metadata": {
        "colab": {
          "base_uri": "https://localhost:8080/",
          "height": 53
        },
        "id": "EDR8FyJQTTVB",
        "outputId": "4a606de0-a812-412d-9a4e-fa541bccd98e"
      },
      "execution_count": 79,
      "outputs": [
        {
          "name": "stdout",
          "output_type": "stream",
          "text": [
            "enter the input irtaza\n"
          ]
        },
        {
          "output_type": "execute_result",
          "data": {
            "text/plain": [
              "'irtaza'"
            ],
            "application/vnd.google.colaboratory.intrinsic+json": {
              "type": "string"
            }
          },
          "metadata": {},
          "execution_count": 79
        }
      ]
    },
    {
      "cell_type": "markdown",
      "source": [
        "**list  Comprehensions**"
      ],
      "metadata": {
        "id": "QLzNgz93TvGG"
      }
    },
    {
      "cell_type": "markdown",
      "source": [
        "if you find yourself using for loop along with .append() to create a list\n",
        "list comprehensions are good alternatives"
      ],
      "metadata": {
        "id": "gDaQW5GnT02U"
      }
    },
    {
      "cell_type": "code",
      "source": [
        "myStr = \"Hello World\"\n",
        "myList = []\n",
        "\n",
        "for letter in myStr:\n",
        "  myList.append(letter)\n",
        "\n",
        "myList"
      ],
      "metadata": {
        "colab": {
          "base_uri": "https://localhost:8080/"
        },
        "id": "-7l55nf2T_Pz",
        "outputId": "dbc20328-9c73-48a1-d483-7e4bb45bbeec"
      },
      "execution_count": 82,
      "outputs": [
        {
          "output_type": "execute_result",
          "data": {
            "text/plain": [
              "['H', 'e', 'l', 'l', 'o', ' ', 'W', 'o', 'r', 'l', 'd']"
            ]
          },
          "metadata": {},
          "execution_count": 82
        }
      ]
    },
    {
      "cell_type": "code",
      "source": [
        "# we can also do this\n",
        "myList = [letter for letter in myStr]\n",
        "myList"
      ],
      "metadata": {
        "colab": {
          "base_uri": "https://localhost:8080/"
        },
        "id": "dnx5kaEnUf3o",
        "outputId": "59222dff-8f4e-4778-9bef-e555e56be634"
      },
      "execution_count": 84,
      "outputs": [
        {
          "output_type": "execute_result",
          "data": {
            "text/plain": [
              "['H', 'e', 'l', 'l', 'o', ' ', 'W', 'o', 'r', 'l', 'd']"
            ]
          },
          "metadata": {},
          "execution_count": 84
        }
      ]
    },
    {
      "cell_type": "code",
      "source": [
        "myList = [num**2 for num in range(0,5)]\n",
        "myList"
      ],
      "metadata": {
        "colab": {
          "base_uri": "https://localhost:8080/"
        },
        "id": "Nh26AJy5Us1j",
        "outputId": "4b0a1ff7-db56-4633-9d68-f6b69735445f"
      },
      "execution_count": 85,
      "outputs": [
        {
          "output_type": "execute_result",
          "data": {
            "text/plain": [
              "[0, 1, 4, 9, 16]"
            ]
          },
          "metadata": {},
          "execution_count": 85
        }
      ]
    },
    {
      "cell_type": "code",
      "source": [
        "# grab even num\n",
        "myList = [x for x in range(0,11) if x%2==0]\n",
        "myList # if its confusing you can always go back to traditional methods"
      ],
      "metadata": {
        "colab": {
          "base_uri": "https://localhost:8080/"
        },
        "id": "x9UXfSD0U-RE",
        "outputId": "a6849e51-321f-42c8-a2b2-45d683e8cfbc"
      },
      "execution_count": 87,
      "outputs": [
        {
          "output_type": "execute_result",
          "data": {
            "text/plain": [
              "[0, 2, 4, 6, 8, 10]"
            ]
          },
          "metadata": {},
          "execution_count": 87
        }
      ]
    },
    {
      "cell_type": "code",
      "source": [],
      "metadata": {
        "id": "juV2DQVEVLf8"
      },
      "execution_count": null,
      "outputs": []
    }
  ]
}