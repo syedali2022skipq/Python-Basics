{
  "nbformat": 4,
  "nbformat_minor": 0,
  "metadata": {
    "colab": {
      "provenance": [],
      "authorship_tag": "ABX9TyNNG11h3o8VU9cPJpXpWJ20",
      "include_colab_link": true
    },
    "kernelspec": {
      "name": "python3",
      "display_name": "Python 3"
    },
    "language_info": {
      "name": "python"
    }
  },
  "cells": [
    {
      "cell_type": "markdown",
      "metadata": {
        "id": "view-in-github",
        "colab_type": "text"
      },
      "source": [
        "<a href=\"https://colab.research.google.com/github/syedali2022skipq/Python-Basics/blob/main/Functions.ipynb\" target=\"_parent\"><img src=\"https://colab.research.google.com/assets/colab-badge.svg\" alt=\"Open In Colab\"/></a>"
      ]
    },
    {
      "cell_type": "markdown",
      "source": [
        "**Functions**"
      ],
      "metadata": {
        "id": "2l-S8NCFf6cl"
      }
    },
    {
      "cell_type": "code",
      "execution_count": 5,
      "metadata": {
        "colab": {
          "base_uri": "https://localhost:8080/"
        },
        "id": "tU5tgxr6f2mi",
        "outputId": "14b2c767-d38a-4154-ab17-30ca0b5add0a"
      },
      "outputs": [
        {
          "output_type": "stream",
          "name": "stdout",
          "text": [
            "hello irtaza\n"
          ]
        }
      ],
      "source": [
        "# def keyword for defining a function\n",
        "# def name_of_func():\n",
        "# def hello():\n",
        "#   return name  \n",
        "\n",
        "name = \"irtaza\"\n",
        "\n",
        "def say_hello(name):\n",
        "  print(f\"hello {name}\")\n",
        "\n",
        "say_hello(name)"
      ]
    },
    {
      "cell_type": "code",
      "source": [
        "def add_num(num1,num2):\n",
        "  return num1+num2\n",
        "\n",
        "add_num(10,20)"
      ],
      "metadata": {
        "colab": {
          "base_uri": "https://localhost:8080/"
        },
        "id": "B9Q2DMBSk4Is",
        "outputId": "2efbffdb-4cda-4d6d-f740-7bd3fdcb83c4"
      },
      "execution_count": 6,
      "outputs": [
        {
          "output_type": "execute_result",
          "data": {
            "text/plain": [
              "30"
            ]
          },
          "metadata": {},
          "execution_count": 6
        }
      ]
    },
    {
      "cell_type": "code",
      "source": [
        "#add_num(10)\n",
        "# error because you didn't provide second argument\n",
        "# to aviod the error you can give the default value to the arguments\n",
        "\n",
        "def add_num(num1=0,num2=1):\n",
        "  return num1+num2\n",
        "\n",
        "add_num() # if user didn't provide any arugment it will just use the default values"
      ],
      "metadata": {
        "colab": {
          "base_uri": "https://localhost:8080/"
        },
        "id": "7AxhdA01lGnX",
        "outputId": "c504392f-9cba-4816-e014-84d704ce835d"
      },
      "execution_count": 11,
      "outputs": [
        {
          "output_type": "execute_result",
          "data": {
            "text/plain": [
              "1"
            ]
          },
          "metadata": {},
          "execution_count": 11
        }
      ]
    },
    {
      "cell_type": "markdown",
      "source": [
        "**functions with Logic**"
      ],
      "metadata": {
        "id": "fzphvzSDl4_O"
      }
    },
    {
      "cell_type": "code",
      "source": [
        "# check if num is even or odd\n",
        "def even_check(number):\n",
        "  return number % 2 == 0\n",
        "\n",
        "even_check(2)"
      ],
      "metadata": {
        "colab": {
          "base_uri": "https://localhost:8080/"
        },
        "id": "IyJUwuL7lzjG",
        "outputId": "ce22a30c-3a6f-49e1-f75d-297ffd1f528c"
      },
      "execution_count": 12,
      "outputs": [
        {
          "output_type": "execute_result",
          "data": {
            "text/plain": [
              "True"
            ]
          },
          "metadata": {},
          "execution_count": 12
        }
      ]
    },
    {
      "cell_type": "code",
      "source": [
        "# return true if any number in list is even otherwise return nothing\n",
        "myList = [1,3,5,7,8,9]\n",
        "\n",
        "def is_even(num_list):\n",
        "  for item in num_list:\n",
        "    if item % 2 == 0:\n",
        "      return True\n",
        "    else:\n",
        "      pass # pass doesn't do anything  \n",
        "\n",
        "is_even(myList)"
      ],
      "metadata": {
        "colab": {
          "base_uri": "https://localhost:8080/"
        },
        "id": "E6g1Ax2pmk6r",
        "outputId": "a9c1d9dd-75bf-46e4-b7de-c6a235d7ab06"
      },
      "execution_count": 16,
      "outputs": [
        {
          "output_type": "execute_result",
          "data": {
            "text/plain": [
              "True"
            ]
          },
          "metadata": {},
          "execution_count": 16
        }
      ]
    },
    {
      "cell_type": "code",
      "source": [
        "is_even([1,3,5]) # all odds so no return anything"
      ],
      "metadata": {
        "id": "sHh6gcwxntss"
      },
      "execution_count": 17,
      "outputs": []
    },
    {
      "cell_type": "code",
      "source": [
        "# return true if any number in list is even otherwise return false\n",
        "myList = [1,3,5,7,9]\n",
        "\n",
        "def is_even(num_list):\n",
        "  for item in num_list:\n",
        "    if item % 2 == 0:\n",
        "      return True\n",
        "    else:\n",
        "      pass\n",
        "\n",
        "  return False # false is not in the if statement because we want loop to run thru all items\n",
        "\n",
        "is_even(myList)"
      ],
      "metadata": {
        "colab": {
          "base_uri": "https://localhost:8080/"
        },
        "id": "07y-xMT2n26e",
        "outputId": "0c6ea51d-898c-4cda-a5c0-2581eecf1da5"
      },
      "execution_count": 21,
      "outputs": [
        {
          "output_type": "execute_result",
          "data": {
            "text/plain": [
              "False"
            ]
          },
          "metadata": {},
          "execution_count": 21
        }
      ]
    },
    {
      "cell_type": "code",
      "source": [
        "# return all even nums otherwise return empty list\n",
        "def is_even(num_list):\n",
        "  even_nums = []\n",
        "  for item in num_list:\n",
        "    if item % 2 == 0:\n",
        "      even_nums.append(item)\n",
        "    else:\n",
        "      pass\n",
        "\n",
        "  return even_nums\n",
        "\n",
        "is_even([1,3,5])"
      ],
      "metadata": {
        "colab": {
          "base_uri": "https://localhost:8080/"
        },
        "id": "p7KT2UvTof4z",
        "outputId": "eae1cbd9-216c-48ae-ca84-42b2c87df1e9"
      },
      "execution_count": 22,
      "outputs": [
        {
          "output_type": "execute_result",
          "data": {
            "text/plain": [
              "[]"
            ]
          },
          "metadata": {},
          "execution_count": 22
        }
      ]
    },
    {
      "cell_type": "code",
      "source": [
        "is_even([1,3,2,4,5,7,8,9]) # returning all even nums list"
      ],
      "metadata": {
        "colab": {
          "base_uri": "https://localhost:8080/"
        },
        "id": "F21aixWMo6VP",
        "outputId": "ef3cf2f1-12bb-45e3-e99f-e317e67f525f"
      },
      "execution_count": 23,
      "outputs": [
        {
          "output_type": "execute_result",
          "data": {
            "text/plain": [
              "[2, 4, 8]"
            ]
          },
          "metadata": {},
          "execution_count": 23
        }
      ]
    },
    {
      "cell_type": "markdown",
      "source": [
        "**Tuple Unpacking with functions**"
      ],
      "metadata": {
        "id": "YDkJFPw0pMo3"
      }
    },
    {
      "cell_type": "code",
      "source": [
        "# loop thru list of tuples and upack them\n",
        "work_hours = [('APPL',200),('GOOG',800),('MST', 600)]\n",
        "type(work_hours)"
      ],
      "metadata": {
        "colab": {
          "base_uri": "https://localhost:8080/"
        },
        "id": "9OSZ1LarpRZp",
        "outputId": "fcc9862f-b07f-48a3-ffd2-345296a6fd1e"
      },
      "execution_count": 31,
      "outputs": [
        {
          "output_type": "execute_result",
          "data": {
            "text/plain": [
              "list"
            ]
          },
          "metadata": {},
          "execution_count": 31
        }
      ]
    },
    {
      "cell_type": "code",
      "source": [
        "# check who is the employee of month (most hours employee worked)\n",
        "def employee_check(work):\n",
        "\n",
        "  current_max = 0  # most no of hours\n",
        "  employee_of_month = '' # employee name\n",
        "  # we would solve this as current_max will loop thur all values in tuple list and if its greater then the current_max it will replace the vavlue and store the empyee name \n",
        "  for employee,hours in work_hours:\n",
        "    if hours > current_max:\n",
        "      current_max = hours\n",
        "      employee_of_month = employee\n",
        "    else:\n",
        "      pass\n",
        "\n",
        "  return (employee_of_month,current_max)\n",
        "\n",
        "result = employee_check(work_hours)\n",
        "result          "
      ],
      "metadata": {
        "colab": {
          "base_uri": "https://localhost:8080/"
        },
        "id": "JVj1KXix1yoa",
        "outputId": "65bfed49-a8ed-465f-c65e-9fc1dacc4da5"
      },
      "execution_count": 34,
      "outputs": [
        {
          "output_type": "execute_result",
          "data": {
            "text/plain": [
              "('GOOG', 800)"
            ]
          },
          "metadata": {},
          "execution_count": 34
        }
      ]
    },
    {
      "cell_type": "code",
      "source": [
        "name,hours = employee_check(work_hours) # tuple unpacking\n",
        "name"
      ],
      "metadata": {
        "colab": {
          "base_uri": "https://localhost:8080/",
          "height": 35
        },
        "id": "sOBFGKqq3onI",
        "outputId": "49b6d02f-8fb6-4132-9544-7365e1ed9a64"
      },
      "execution_count": 36,
      "outputs": [
        {
          "output_type": "execute_result",
          "data": {
            "text/plain": [
              "'GOOG'"
            ],
            "application/vnd.google.colaboratory.intrinsic+json": {
              "type": "string"
            }
          },
          "metadata": {},
          "execution_count": 36
        }
      ]
    },
    {
      "cell_type": "code",
      "source": [
        "hours"
      ],
      "metadata": {
        "colab": {
          "base_uri": "https://localhost:8080/"
        },
        "id": "9IHJyKmq30t4",
        "outputId": "ebb7e0c9-d06b-4f02-c037-88bc15bb39c8"
      },
      "execution_count": 37,
      "outputs": [
        {
          "output_type": "execute_result",
          "data": {
            "text/plain": [
              "800"
            ]
          },
          "metadata": {},
          "execution_count": 37
        }
      ]
    },
    {
      "cell_type": "markdown",
      "source": [
        "**Interaction btw python functions**"
      ],
      "metadata": {
        "id": "9a56GRscpSA-"
      }
    },
    {
      "cell_type": "code",
      "source": [
        "example = [1,2,3,4,5,6,7]\n",
        "from random import shuffle"
      ],
      "metadata": {
        "id": "jlQmoR4FpXp0"
      },
      "execution_count": 38,
      "outputs": []
    },
    {
      "cell_type": "code",
      "source": [
        "shuffle(example)\n",
        "example"
      ],
      "metadata": {
        "colab": {
          "base_uri": "https://localhost:8080/"
        },
        "id": "PjZFxilD411P",
        "outputId": "40540cf8-1905-444c-a3ba-631bb510e3b7"
      },
      "execution_count": 40,
      "outputs": [
        {
          "output_type": "execute_result",
          "data": {
            "text/plain": [
              "[7, 4, 2, 5, 3, 1, 6]"
            ]
          },
          "metadata": {},
          "execution_count": 40
        }
      ]
    },
    {
      "cell_type": "code",
      "source": [
        "# 3 cups games in python where use have to guess in which cup the ball is after shuffling\n",
        "# we'll not make visual but use code to implement that\n",
        "\n",
        "\n",
        "def shuffle_list(mylist):\n",
        "  shuffle(mylist)\n",
        "  return mylist"
      ],
      "metadata": {
        "id": "eaS2jzhb49oA"
      },
      "execution_count": 58,
      "outputs": []
    },
    {
      "cell_type": "code",
      "source": [
        "\n",
        "mylist = [' ','0',' '] # O means ball here\n",
        "\n",
        "mixed_list = shuffle_list(mylist)\n",
        "\n",
        "def player_guess():\n",
        "\n",
        "  guess = ''\n",
        "\n",
        "  while guess not in ['0','1','2']: # while user don't put either 0 1 or 2 keep asking user for input\n",
        "    guess = input(\"pick a num: 0,1 or 2 => \") #input alwasy returns a str so we will make it int before returning\n",
        "\n",
        "  return int(guess)"
      ],
      "metadata": {
        "id": "dzHzbSdr5db4"
      },
      "execution_count": 62,
      "outputs": []
    },
    {
      "cell_type": "code",
      "source": [
        "def check_guess(mylist,guess):\n",
        "  if mylist[guess] == '0':\n",
        "    print(\"Correct!\")\n",
        "  else:\n",
        "    print(\"wrong\")\n",
        "    print(mylist)\n",
        "\n",
        "# user guess\n",
        "\n",
        "guess = player_guess()\n",
        "\n",
        "# check guess\n",
        "\n",
        "check_guess(mixed_list,guess) # functions intereactions"
      ],
      "metadata": {
        "colab": {
          "base_uri": "https://localhost:8080/"
        },
        "id": "AW8cCWYp9qA3",
        "outputId": "97a433ca-9333-4012-c3cd-af062479d18c"
      },
      "execution_count": 64,
      "outputs": [
        {
          "output_type": "stream",
          "name": "stdout",
          "text": [
            "pick a num: 0,1 or 2 => 5\n",
            "pick a num: 0,1 or 2 => 6\n",
            "pick a num: 0,1 or 2 => 2\n",
            "wrong\n",
            "['0', ' ', ' ']\n"
          ]
        }
      ]
    },
    {
      "cell_type": "markdown",
      "source": [
        "**args and kwargs**"
      ],
      "metadata": {
        "id": "sv_uh96YpX_0"
      }
    },
    {
      "cell_type": "code",
      "source": [
        "# functional parameters => *args = arguments and **kwargs = keyword arguments\n",
        "# args allow you to treat this as a tuple of parameters\n",
        "\n",
        "def myfunc(*args): # so there's no limit of arguments you can give as many as you want\n",
        "  print(args)\n",
        "\n",
        "myfunc(40,60,80,100)  \n"
      ],
      "metadata": {
        "colab": {
          "base_uri": "https://localhost:8080/"
        },
        "id": "ZWats6Rspdou",
        "outputId": "bdad1e8b-a3fd-40da-87b2-138859749ba7"
      },
      "execution_count": 66,
      "outputs": [
        {
          "output_type": "stream",
          "name": "stdout",
          "text": [
            "(40, 60, 80, 100)\n"
          ]
        }
      ]
    },
    {
      "cell_type": "code",
      "source": [
        "# args can be any keyword\n",
        "\n",
        "def myfunc(*mylist): # by convention you should always use args\n",
        "   print(mylist)\n",
        "\n",
        "myfunc(40,90,80,100)"
      ],
      "metadata": {
        "colab": {
          "base_uri": "https://localhost:8080/"
        },
        "id": "Vx7GBL7nBVyy",
        "outputId": "221591fc-a708-4157-9516-b29c0fe194db"
      },
      "execution_count": 69,
      "outputs": [
        {
          "output_type": "stream",
          "name": "stdout",
          "text": [
            "(40, 90, 80, 100)\n"
          ]
        }
      ]
    },
    {
      "cell_type": "code",
      "source": [
        "def myfunc(**kwargs): # kwargs return a dictionary\n",
        "  print(kwargs)\n",
        "  if 'fruit' in kwargs:\n",
        "    print('my fav fruit is {} '.format(kwargs['fruit']))\n",
        "  else:\n",
        "    print('nothing')\n",
        "\n",
        "myfunc(fruit= 'apple', vege= 'lettuce')      \n"
      ],
      "metadata": {
        "colab": {
          "base_uri": "https://localhost:8080/"
        },
        "id": "xsTLks9iBuDj",
        "outputId": "701abe4c-8635-4cdd-ccc1-c84a31fa5f1e"
      },
      "execution_count": 72,
      "outputs": [
        {
          "output_type": "stream",
          "name": "stdout",
          "text": [
            "{'fruit': 'apple', 'vege': 'lettuce'}\n",
            "my fav fruit is apple \n"
          ]
        }
      ]
    },
    {
      "cell_type": "code",
      "source": [],
      "metadata": {
        "id": "z7nAM2l8BlXI"
      },
      "execution_count": null,
      "outputs": []
    }
  ]
}